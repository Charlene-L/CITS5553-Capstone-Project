{
  "nbformat": 4,
  "nbformat_minor": 0,
  "metadata": {
    "colab": {
      "provenance": []
    },
    "kernelspec": {
      "name": "python3",
      "display_name": "Python 3"
    },
    "language_info": {
      "name": "python"
    }
  },
  "cells": [
    {
      "cell_type": "markdown",
      "source": [
        "## Load Libraries"
      ],
      "metadata": {
        "id": "GZhSnQR69oPI"
      }
    },
    {
      "cell_type": "code",
      "source": [
        "from collections import Counter\n",
        "from sklearn.datasets import make_classification\n",
        "from imblearn.over_sampling import RandomOverSampler\n",
        "from google.colab import files\n",
        "import pandas as pd\n",
        "import numpy as np\n",
        "from sklearn.model_selection import StratifiedShuffleSplit"
      ],
      "metadata": {
        "id": "puJz6TSD9qPa"
      },
      "execution_count": 10,
      "outputs": []
    },
    {
      "cell_type": "markdown",
      "source": [
        "## Over Sampling Example"
      ],
      "metadata": {
        "id": "nyusy0Wm8zXT"
      }
    },
    {
      "cell_type": "code",
      "execution_count": 3,
      "metadata": {
        "colab": {
          "base_uri": "https://localhost:8080/"
        },
        "id": "KuSwbfl07KyV",
        "outputId": "0c8b6909-3f69-4d47-db8a-143770d73860"
      },
      "outputs": [
        {
          "output_type": "stream",
          "name": "stdout",
          "text": [
            "Counter({0: 9900, 1: 100})\n",
            "Counter({0: 9900, 1: 9900})\n"
          ]
        }
      ],
      "source": [
        "X, y = make_classification(n_samples=10000, weights=[0.99], flip_y=0)\n",
        "print(Counter(y))\n",
        "\n",
        "oversample = RandomOverSampler(sampling_strategy='minority') # over sample minority to match majority\n",
        "#oversample = RandomOverSampling(sampling_strategy=0.5) # over sample minority to have half as many observations as majority\n",
        "\n",
        "X_over, y_over = oversample.fit_resample(X, y)\n",
        "\n",
        "print(Counter(y_over))"
      ]
    },
    {
      "cell_type": "markdown",
      "source": [
        "## Stratified Split Example"
      ],
      "metadata": {
        "id": "cEU0OlOC-38m"
      }
    },
    {
      "cell_type": "code",
      "source": [
        "X = np.array([[1,2],[3,4],[1,2],[3,4],[1,2],[3,4]])\n",
        "y = np.array([0,0,0,1,1,1])\n",
        "\n",
        "sss = StratifiedShuffleSplit(n_splits=1, test_size=0.5, random_state=0)\n",
        "for train_index, test_index in sss.split(X, y):\n",
        "  print(\"TRAIN:\", train_index, \"TEST:\", test_index)\n",
        "  X_train, X_test = X[train_index], X[test_index]\n",
        "  y_train, y_test = y[train_index], y[test_index]\n",
        "\n",
        "print(X_train)\n",
        "print(y_train)\n",
        "print(X_test)\n",
        "print(y_test)"
      ],
      "metadata": {
        "colab": {
          "base_uri": "https://localhost:8080/"
        },
        "id": "SLaPCVYA_DnP",
        "outputId": "f5b168d6-f838-429e-b51f-1a583cf97e82"
      },
      "execution_count": 17,
      "outputs": [
        {
          "output_type": "stream",
          "name": "stdout",
          "text": [
            "TRAIN: [5 2 3] TEST: [4 1 0]\n",
            "[[3 4]\n",
            " [1 2]\n",
            " [3 4]]\n",
            "[1 0 1]\n",
            "[[1 2]\n",
            " [3 4]\n",
            " [1 2]]\n",
            "[1 0 0]\n"
          ]
        }
      ]
    },
    {
      "cell_type": "markdown",
      "source": [
        "## Load WBA Data"
      ],
      "metadata": {
        "id": "vF57tBJP825R"
      }
    },
    {
      "cell_type": "code",
      "source": [
        "# re upload files everytime run\n",
        "\n",
        "uploaded = files.upload()"
      ],
      "metadata": {
        "colab": {
          "base_uri": "https://localhost:8080/",
          "height": 177
        },
        "id": "63S56C_Z8y3s",
        "outputId": "cadd73e4-b9a6-41ca-c7c2-d30545752eb0"
      },
      "execution_count": 4,
      "outputs": [
        {
          "output_type": "display_data",
          "data": {
            "text/plain": [
              "<IPython.core.display.HTML object>"
            ],
            "text/html": [
              "\n",
              "     <input type=\"file\" id=\"files-fd0f4627-6aa9-4eaf-bfa1-645869230e70\" name=\"files[]\" multiple disabled\n",
              "        style=\"border:none\" />\n",
              "     <output id=\"result-fd0f4627-6aa9-4eaf-bfa1-645869230e70\">\n",
              "      Upload widget is only available when the cell has been executed in the\n",
              "      current browser session. Please rerun this cell to enable.\n",
              "      </output>\n",
              "      <script>// Copyright 2017 Google LLC\n",
              "//\n",
              "// Licensed under the Apache License, Version 2.0 (the \"License\");\n",
              "// you may not use this file except in compliance with the License.\n",
              "// You may obtain a copy of the License at\n",
              "//\n",
              "//      http://www.apache.org/licenses/LICENSE-2.0\n",
              "//\n",
              "// Unless required by applicable law or agreed to in writing, software\n",
              "// distributed under the License is distributed on an \"AS IS\" BASIS,\n",
              "// WITHOUT WARRANTIES OR CONDITIONS OF ANY KIND, either express or implied.\n",
              "// See the License for the specific language governing permissions and\n",
              "// limitations under the License.\n",
              "\n",
              "/**\n",
              " * @fileoverview Helpers for google.colab Python module.\n",
              " */\n",
              "(function(scope) {\n",
              "function span(text, styleAttributes = {}) {\n",
              "  const element = document.createElement('span');\n",
              "  element.textContent = text;\n",
              "  for (const key of Object.keys(styleAttributes)) {\n",
              "    element.style[key] = styleAttributes[key];\n",
              "  }\n",
              "  return element;\n",
              "}\n",
              "\n",
              "// Max number of bytes which will be uploaded at a time.\n",
              "const MAX_PAYLOAD_SIZE = 100 * 1024;\n",
              "\n",
              "function _uploadFiles(inputId, outputId) {\n",
              "  const steps = uploadFilesStep(inputId, outputId);\n",
              "  const outputElement = document.getElementById(outputId);\n",
              "  // Cache steps on the outputElement to make it available for the next call\n",
              "  // to uploadFilesContinue from Python.\n",
              "  outputElement.steps = steps;\n",
              "\n",
              "  return _uploadFilesContinue(outputId);\n",
              "}\n",
              "\n",
              "// This is roughly an async generator (not supported in the browser yet),\n",
              "// where there are multiple asynchronous steps and the Python side is going\n",
              "// to poll for completion of each step.\n",
              "// This uses a Promise to block the python side on completion of each step,\n",
              "// then passes the result of the previous step as the input to the next step.\n",
              "function _uploadFilesContinue(outputId) {\n",
              "  const outputElement = document.getElementById(outputId);\n",
              "  const steps = outputElement.steps;\n",
              "\n",
              "  const next = steps.next(outputElement.lastPromiseValue);\n",
              "  return Promise.resolve(next.value.promise).then((value) => {\n",
              "    // Cache the last promise value to make it available to the next\n",
              "    // step of the generator.\n",
              "    outputElement.lastPromiseValue = value;\n",
              "    return next.value.response;\n",
              "  });\n",
              "}\n",
              "\n",
              "/**\n",
              " * Generator function which is called between each async step of the upload\n",
              " * process.\n",
              " * @param {string} inputId Element ID of the input file picker element.\n",
              " * @param {string} outputId Element ID of the output display.\n",
              " * @return {!Iterable<!Object>} Iterable of next steps.\n",
              " */\n",
              "function* uploadFilesStep(inputId, outputId) {\n",
              "  const inputElement = document.getElementById(inputId);\n",
              "  inputElement.disabled = false;\n",
              "\n",
              "  const outputElement = document.getElementById(outputId);\n",
              "  outputElement.innerHTML = '';\n",
              "\n",
              "  const pickedPromise = new Promise((resolve) => {\n",
              "    inputElement.addEventListener('change', (e) => {\n",
              "      resolve(e.target.files);\n",
              "    });\n",
              "  });\n",
              "\n",
              "  const cancel = document.createElement('button');\n",
              "  inputElement.parentElement.appendChild(cancel);\n",
              "  cancel.textContent = 'Cancel upload';\n",
              "  const cancelPromise = new Promise((resolve) => {\n",
              "    cancel.onclick = () => {\n",
              "      resolve(null);\n",
              "    };\n",
              "  });\n",
              "\n",
              "  // Wait for the user to pick the files.\n",
              "  const files = yield {\n",
              "    promise: Promise.race([pickedPromise, cancelPromise]),\n",
              "    response: {\n",
              "      action: 'starting',\n",
              "    }\n",
              "  };\n",
              "\n",
              "  cancel.remove();\n",
              "\n",
              "  // Disable the input element since further picks are not allowed.\n",
              "  inputElement.disabled = true;\n",
              "\n",
              "  if (!files) {\n",
              "    return {\n",
              "      response: {\n",
              "        action: 'complete',\n",
              "      }\n",
              "    };\n",
              "  }\n",
              "\n",
              "  for (const file of files) {\n",
              "    const li = document.createElement('li');\n",
              "    li.append(span(file.name, {fontWeight: 'bold'}));\n",
              "    li.append(span(\n",
              "        `(${file.type || 'n/a'}) - ${file.size} bytes, ` +\n",
              "        `last modified: ${\n",
              "            file.lastModifiedDate ? file.lastModifiedDate.toLocaleDateString() :\n",
              "                                    'n/a'} - `));\n",
              "    const percent = span('0% done');\n",
              "    li.appendChild(percent);\n",
              "\n",
              "    outputElement.appendChild(li);\n",
              "\n",
              "    const fileDataPromise = new Promise((resolve) => {\n",
              "      const reader = new FileReader();\n",
              "      reader.onload = (e) => {\n",
              "        resolve(e.target.result);\n",
              "      };\n",
              "      reader.readAsArrayBuffer(file);\n",
              "    });\n",
              "    // Wait for the data to be ready.\n",
              "    let fileData = yield {\n",
              "      promise: fileDataPromise,\n",
              "      response: {\n",
              "        action: 'continue',\n",
              "      }\n",
              "    };\n",
              "\n",
              "    // Use a chunked sending to avoid message size limits. See b/62115660.\n",
              "    let position = 0;\n",
              "    do {\n",
              "      const length = Math.min(fileData.byteLength - position, MAX_PAYLOAD_SIZE);\n",
              "      const chunk = new Uint8Array(fileData, position, length);\n",
              "      position += length;\n",
              "\n",
              "      const base64 = btoa(String.fromCharCode.apply(null, chunk));\n",
              "      yield {\n",
              "        response: {\n",
              "          action: 'append',\n",
              "          file: file.name,\n",
              "          data: base64,\n",
              "        },\n",
              "      };\n",
              "\n",
              "      let percentDone = fileData.byteLength === 0 ?\n",
              "          100 :\n",
              "          Math.round((position / fileData.byteLength) * 100);\n",
              "      percent.textContent = `${percentDone}% done`;\n",
              "\n",
              "    } while (position < fileData.byteLength);\n",
              "  }\n",
              "\n",
              "  // All done.\n",
              "  yield {\n",
              "    response: {\n",
              "      action: 'complete',\n",
              "    }\n",
              "  };\n",
              "}\n",
              "\n",
              "scope.google = scope.google || {};\n",
              "scope.google.colab = scope.google.colab || {};\n",
              "scope.google.colab._files = {\n",
              "  _uploadFiles,\n",
              "  _uploadFilesContinue,\n",
              "};\n",
              "})(self);\n",
              "</script> "
            ]
          },
          "metadata": {}
        },
        {
          "output_type": "stream",
          "name": "stdout",
          "text": [
            "Saving X_test.csv to X_test.csv\n",
            "Saving X_train.csv to X_train.csv\n",
            "Saving y_test.csv to y_test.csv\n",
            "Saving y_train.csv to y_train.csv\n"
          ]
        }
      ]
    },
    {
      "cell_type": "code",
      "source": [
        "X_train = pd.read_csv('X_train.csv')\n",
        "y_train = pd.read_csv('y_train.csv')\n",
        "X_test = pd.read_csv('X_test.csv')\n",
        "y_test = pd.read_csv('y_test.csv')\n",
        "\n",
        "print(X_train.shape)\n",
        "print(y_train.shape)\n",
        "print(X_test.shape)\n",
        "print(y_test.shape)\n",
        "\n",
        "frames_X = [X_train, X_test]\n",
        "frames_y = [y_train, y_test]\n",
        "\n",
        "X = pd.concat(frames_X)\n",
        "y = pd.concat(frames_y)\n",
        "\n",
        "print(X.shape)\n",
        "print(y.shape)"
      ],
      "metadata": {
        "colab": {
          "base_uri": "https://localhost:8080/"
        },
        "id": "k9WPTwUF9Fb8",
        "outputId": "42cbd165-e77c-4c6f-aa49-a580a9cb9f86"
      },
      "execution_count": 6,
      "outputs": [
        {
          "output_type": "stream",
          "name": "stdout",
          "text": [
            "(191, 120)\n",
            "(191, 1)\n",
            "(48, 120)\n",
            "(48, 1)\n",
            "(239, 120)\n",
            "(239, 1)\n"
          ]
        }
      ]
    },
    {
      "cell_type": "markdown",
      "source": [
        "## Over Sample Minority Class"
      ],
      "metadata": {
        "id": "UBP25IwV9hg-"
      }
    },
    {
      "cell_type": "code",
      "source": [
        "print(Counter(y['OverallPoF']))\n",
        "\n",
        "oversample = RandomOverSampler(sampling_strategy='minority') # over sample minority to match majority\n",
        "#oversample = RandomOverSampling(sampling_strategy=0.5) # over sample minority to have half as many observations as majority\n",
        "\n",
        "X_over, y_over = oversample.fit_resample(X, y)\n",
        "\n",
        "print(Counter(y_over['OverallPoF']))"
      ],
      "metadata": {
        "colab": {
          "base_uri": "https://localhost:8080/"
        },
        "id": "S8CN58Vg9km7",
        "outputId": "28e4cc50-08e0-4381-e92e-66e07f335107"
      },
      "execution_count": 8,
      "outputs": [
        {
          "output_type": "stream",
          "name": "stdout",
          "text": [
            "Counter({0: 201, 1: 38})\n",
            "Counter({1: 201, 0: 201})\n"
          ]
        }
      ]
    },
    {
      "cell_type": "markdown",
      "source": [
        "## Stratify Split"
      ],
      "metadata": {
        "id": "onuP_ysNAy4k"
      }
    },
    {
      "cell_type": "code",
      "source": [
        "sss = StratifiedShuffleSplit(n_splits=1, test_size=0.15, random_state=0)\n",
        "for train_index, test_index in sss.split(X_over, y_over):\n",
        "  print(\"TRAIN:\", train_index, \"TEST:\", test_index)\n",
        "  X_train, X_test = X_over.iloc[train_index,], X_over.iloc[test_index,]\n",
        "  y_train, y_test = y_over.iloc[train_index,], y_over.iloc[test_index,]\n",
        "\n",
        "print(X_train.shape)\n",
        "print(y_train.shape)\n",
        "print(X_test.shape)\n",
        "print(y_test.shape)"
      ],
      "metadata": {
        "colab": {
          "base_uri": "https://localhost:8080/"
        },
        "id": "KfTCqD6VA1DB",
        "outputId": "001024c7-ea66-486b-d5a7-ab3f58668635"
      },
      "execution_count": 23,
      "outputs": [
        {
          "output_type": "stream",
          "name": "stdout",
          "text": [
            "TRAIN: [330  39 277  36 400 118  99  19 159 304   2 380 183 301  91 186  28 126\n",
            "  20  15   3  72 364 270 306 276 193 314 211 142  62 341 336  67  63 202\n",
            " 215  27 188 288 333 261 360 323  77 151 155 358 374 369 287 102 286 327\n",
            " 135  74 218 273 243 296 372 177 157  85 200 241 205  89 168 332 370  97\n",
            " 216 337  14  82 310 125 347 120 342 192  70  57 121 180   0 108 129 114\n",
            " 265 283  30 279 223 387 122 158 219 396   1 239 317 171 299  41 321   5\n",
            "  64 133 389 293 381  43 348 123 181  80 398 217 144 143 385 262 146 255\n",
            " 340 182   8 294 346 149 198 356 269 145  46  98  37 393 154 264 329 266\n",
            " 292 313 190 355 350 148  73 386 214 153 373 127 134 272 238 131 247  44\n",
            "  76 173 140 185 225  52 391 395  17   6 113 394 297 236 152 280 298  71\n",
            " 282 137 315 384 166 335 368 209 362 197  26 161 260 308  18 263  60 222\n",
            " 295 162 325 371 220 213 179 345 139 258 259  34 187  33 234  16  61 164\n",
            " 245 361 165 284 110  38 201   9 257 281   7 267 103 116 278 229 354 107\n",
            "  86 316 109 311 250 138 141  49 106 324 365  51 160 285 392 363 115 196\n",
            " 290  66  47  40 248 210 367 147 328 249  84  96  32 303 351 191 178 253\n",
            " 208  58 378 172 237  95 322  22  11 251 119 309  75 136  68 246 235  56\n",
            " 199 343 230 359 319 163 231  87 203 291 300 256 379 212 271 169 376 111\n",
            " 184 289 331  69 318 194 382  79 320  31 150  55  13 353  23 128 388 204\n",
            "  54 334 344 207 105 302   4 307  48  59 275 104 124 174  24 377  50] TEST: [397 117  83 167 112 240  78 224  93 195 268  90  35 176 206 338 226  65\n",
            " 100 349  88  10  53  12  94 305 326  25 244 401 221  81 232 312 252 357\n",
            " 339 228 352 254 170 399 130 101  42 375 233  21 175 132  92  29 390  45\n",
            " 366 274 242 383 156 189 227]\n",
            "(341, 120)\n",
            "(341, 1)\n",
            "(61, 120)\n",
            "(61, 1)\n"
          ]
        }
      ]
    },
    {
      "cell_type": "code",
      "source": [
        "X_train.to_csv('X_train_over.csv')\n",
        "y_train.to_csv('y_train_over.csv')\n",
        "X_test.to_csv('X_test_over.csv')\n",
        "y_test.to_csv('y_test_over.csv')"
      ],
      "metadata": {
        "id": "u6-J6qbYBjru"
      },
      "execution_count": 26,
      "outputs": []
    }
  ]
}