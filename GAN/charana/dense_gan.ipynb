{
  "cells": [
    {
      "cell_type": "markdown",
      "metadata": {
        "id": "afAze-Gqsq0-"
      },
      "source": [
        "## Import Data"
      ]
    },
    {
      "cell_type": "code",
      "execution_count": 14,
      "metadata": {
        "id": "ZZ3uN2XjoEyz"
      },
      "outputs": [],
      "source": [
        "import pandas as pd\n",
        "\n",
        "df = df = pd.read_csv(\"absorbance.csv\")"
      ]
    },
    {
      "cell_type": "code",
      "execution_count": 15,
      "metadata": {},
      "outputs": [
        {
          "data": {
            "text/html": [
              "<div>\n",
              "<style scoped>\n",
              "    .dataframe tbody tr th:only-of-type {\n",
              "        vertical-align: middle;\n",
              "    }\n",
              "\n",
              "    .dataframe tbody tr th {\n",
              "        vertical-align: top;\n",
              "    }\n",
              "\n",
              "    .dataframe thead th {\n",
              "        text-align: right;\n",
              "    }\n",
              "</style>\n",
              "<table border=\"1\" class=\"dataframe\">\n",
              "  <thead>\n",
              "    <tr style=\"text-align: right;\">\n",
              "      <th></th>\n",
              "      <th>Subject</th>\n",
              "      <th>Gender</th>\n",
              "      <th>DOT</th>\n",
              "      <th>DOB</th>\n",
              "      <th>AgeM</th>\n",
              "      <th>AgeY</th>\n",
              "      <th>Eth1</th>\n",
              "      <th>Eth2</th>\n",
              "      <th>Unnamed: 15</th>\n",
              "      <th>Lang1</th>\n",
              "      <th>...</th>\n",
              "      <th>f(6168.8433)</th>\n",
              "      <th>f(6349.6042)</th>\n",
              "      <th>f(6535.6618)</th>\n",
              "      <th>f(6727.1713)</th>\n",
              "      <th>f(6924.2925)</th>\n",
              "      <th>f(7127.1897)</th>\n",
              "      <th>f(7336.0323)</th>\n",
              "      <th>f(7550.9945)</th>\n",
              "      <th>f(7772.2555)</th>\n",
              "      <th>f(8000.0000)</th>\n",
              "    </tr>\n",
              "  </thead>\n",
              "  <tbody>\n",
              "    <tr>\n",
              "      <th>0</th>\n",
              "      <td>8</td>\n",
              "      <td>0</td>\n",
              "      <td>2016-05-12 00:00:00</td>\n",
              "      <td>2006-12-18 00:00:00</td>\n",
              "      <td>112</td>\n",
              "      <td>9.333333</td>\n",
              "      <td>Australian</td>\n",
              "      <td>NaN</td>\n",
              "      <td>0.0</td>\n",
              "      <td>English</td>\n",
              "      <td>...</td>\n",
              "      <td>0.5370</td>\n",
              "      <td>0.4869</td>\n",
              "      <td>0.4301</td>\n",
              "      <td>0.4080</td>\n",
              "      <td>0.3804</td>\n",
              "      <td>0.3291</td>\n",
              "      <td>0.2951</td>\n",
              "      <td>0.2530</td>\n",
              "      <td>0.2282</td>\n",
              "      <td>0.2003</td>\n",
              "    </tr>\n",
              "    <tr>\n",
              "      <th>1</th>\n",
              "      <td>22</td>\n",
              "      <td>0</td>\n",
              "      <td>2016-05-18 00:00:00</td>\n",
              "      <td>2006-10-27 00:00:00</td>\n",
              "      <td>114</td>\n",
              "      <td>9.500000</td>\n",
              "      <td>Australian</td>\n",
              "      <td>NaN</td>\n",
              "      <td>0.0</td>\n",
              "      <td>English</td>\n",
              "      <td>...</td>\n",
              "      <td>0.2636</td>\n",
              "      <td>0.2578</td>\n",
              "      <td>0.2443</td>\n",
              "      <td>0.2549</td>\n",
              "      <td>0.2604</td>\n",
              "      <td>0.2397</td>\n",
              "      <td>0.2299</td>\n",
              "      <td>0.2048</td>\n",
              "      <td>0.1917</td>\n",
              "      <td>0.1659</td>\n",
              "    </tr>\n",
              "    <tr>\n",
              "      <th>2</th>\n",
              "      <td>24</td>\n",
              "      <td>1</td>\n",
              "      <td>2016-05-18 00:00:00</td>\n",
              "      <td>2006-07-02 00:00:00</td>\n",
              "      <td>118</td>\n",
              "      <td>9.833333</td>\n",
              "      <td>Australian</td>\n",
              "      <td>NaN</td>\n",
              "      <td>0.0</td>\n",
              "      <td>English</td>\n",
              "      <td>...</td>\n",
              "      <td>0.4269</td>\n",
              "      <td>0.4142</td>\n",
              "      <td>0.3910</td>\n",
              "      <td>0.3799</td>\n",
              "      <td>0.3740</td>\n",
              "      <td>0.3536</td>\n",
              "      <td>0.3473</td>\n",
              "      <td>0.3237</td>\n",
              "      <td>0.3056</td>\n",
              "      <td>0.2881</td>\n",
              "    </tr>\n",
              "    <tr>\n",
              "      <th>3</th>\n",
              "      <td>31</td>\n",
              "      <td>0</td>\n",
              "      <td>2016-05-19 00:00:00</td>\n",
              "      <td>2006-06-01 00:00:00</td>\n",
              "      <td>119</td>\n",
              "      <td>9.916667</td>\n",
              "      <td>Australian</td>\n",
              "      <td>NaN</td>\n",
              "      <td>0.0</td>\n",
              "      <td>English</td>\n",
              "      <td>...</td>\n",
              "      <td>0.0077</td>\n",
              "      <td>0.0123</td>\n",
              "      <td>0.0066</td>\n",
              "      <td>-0.0024</td>\n",
              "      <td>0.0126</td>\n",
              "      <td>0.0231</td>\n",
              "      <td>0.0405</td>\n",
              "      <td>0.0401</td>\n",
              "      <td>0.0391</td>\n",
              "      <td>0.0258</td>\n",
              "    </tr>\n",
              "    <tr>\n",
              "      <th>4</th>\n",
              "      <td>42</td>\n",
              "      <td>0</td>\n",
              "      <td>2016-05-20 00:00:00</td>\n",
              "      <td>2008-06-03 00:00:00</td>\n",
              "      <td>95</td>\n",
              "      <td>7.916667</td>\n",
              "      <td>Australian</td>\n",
              "      <td>NaN</td>\n",
              "      <td>0.0</td>\n",
              "      <td>English</td>\n",
              "      <td>...</td>\n",
              "      <td>0.2332</td>\n",
              "      <td>0.2216</td>\n",
              "      <td>0.2228</td>\n",
              "      <td>0.2653</td>\n",
              "      <td>0.2596</td>\n",
              "      <td>0.2576</td>\n",
              "      <td>0.2838</td>\n",
              "      <td>0.3598</td>\n",
              "      <td>0.3953</td>\n",
              "      <td>0.3642</td>\n",
              "    </tr>\n",
              "    <tr>\n",
              "      <th>...</th>\n",
              "      <td>...</td>\n",
              "      <td>...</td>\n",
              "      <td>...</td>\n",
              "      <td>...</td>\n",
              "      <td>...</td>\n",
              "      <td>...</td>\n",
              "      <td>...</td>\n",
              "      <td>...</td>\n",
              "      <td>...</td>\n",
              "      <td>...</td>\n",
              "      <td>...</td>\n",
              "      <td>...</td>\n",
              "      <td>...</td>\n",
              "      <td>...</td>\n",
              "      <td>...</td>\n",
              "      <td>...</td>\n",
              "      <td>...</td>\n",
              "      <td>...</td>\n",
              "      <td>...</td>\n",
              "      <td>...</td>\n",
              "      <td>...</td>\n",
              "    </tr>\n",
              "    <tr>\n",
              "      <th>234</th>\n",
              "      <td>485</td>\n",
              "      <td>1</td>\n",
              "      <td>2017-07-19 00:00:00</td>\n",
              "      <td>2008-10-20 00:00:00</td>\n",
              "      <td>104</td>\n",
              "      <td>8.666667</td>\n",
              "      <td>Caucasian</td>\n",
              "      <td>NaN</td>\n",
              "      <td>0.0</td>\n",
              "      <td>English</td>\n",
              "      <td>...</td>\n",
              "      <td>0.2221</td>\n",
              "      <td>0.1930</td>\n",
              "      <td>0.1592</td>\n",
              "      <td>0.1549</td>\n",
              "      <td>0.1346</td>\n",
              "      <td>0.1250</td>\n",
              "      <td>0.1125</td>\n",
              "      <td>0.1242</td>\n",
              "      <td>0.1356</td>\n",
              "      <td>0.1372</td>\n",
              "    </tr>\n",
              "    <tr>\n",
              "      <th>235</th>\n",
              "      <td>487</td>\n",
              "      <td>0</td>\n",
              "      <td>2017-07-19 00:00:00</td>\n",
              "      <td>2008-10-30 00:00:00</td>\n",
              "      <td>104</td>\n",
              "      <td>8.666667</td>\n",
              "      <td>Anglosaxon</td>\n",
              "      <td>Maori</td>\n",
              "      <td>1.0</td>\n",
              "      <td>English</td>\n",
              "      <td>...</td>\n",
              "      <td>0.5130</td>\n",
              "      <td>0.4766</td>\n",
              "      <td>0.4316</td>\n",
              "      <td>0.4108</td>\n",
              "      <td>0.3587</td>\n",
              "      <td>0.3216</td>\n",
              "      <td>0.2877</td>\n",
              "      <td>0.3026</td>\n",
              "      <td>0.2838</td>\n",
              "      <td>0.2682</td>\n",
              "    </tr>\n",
              "    <tr>\n",
              "      <th>236</th>\n",
              "      <td>494</td>\n",
              "      <td>1</td>\n",
              "      <td>2017-07-20 00:00:00</td>\n",
              "      <td>2008-08-27 00:00:00</td>\n",
              "      <td>106</td>\n",
              "      <td>8.833333</td>\n",
              "      <td>Australian</td>\n",
              "      <td>NaN</td>\n",
              "      <td>0.0</td>\n",
              "      <td>English</td>\n",
              "      <td>...</td>\n",
              "      <td>0.6157</td>\n",
              "      <td>0.5506</td>\n",
              "      <td>0.4832</td>\n",
              "      <td>0.4501</td>\n",
              "      <td>0.3983</td>\n",
              "      <td>0.3545</td>\n",
              "      <td>0.3115</td>\n",
              "      <td>0.3136</td>\n",
              "      <td>0.2871</td>\n",
              "      <td>0.2679</td>\n",
              "    </tr>\n",
              "    <tr>\n",
              "      <th>237</th>\n",
              "      <td>495</td>\n",
              "      <td>1</td>\n",
              "      <td>2017-07-20 00:00:00</td>\n",
              "      <td>2009-04-10 00:00:00</td>\n",
              "      <td>99</td>\n",
              "      <td>8.250000</td>\n",
              "      <td>Australian</td>\n",
              "      <td>NaN</td>\n",
              "      <td>0.0</td>\n",
              "      <td>English</td>\n",
              "      <td>...</td>\n",
              "      <td>0.3333</td>\n",
              "      <td>0.2819</td>\n",
              "      <td>0.2302</td>\n",
              "      <td>0.2029</td>\n",
              "      <td>0.1586</td>\n",
              "      <td>0.1279</td>\n",
              "      <td>0.0934</td>\n",
              "      <td>0.0612</td>\n",
              "      <td>0.0427</td>\n",
              "      <td>0.0031</td>\n",
              "    </tr>\n",
              "    <tr>\n",
              "      <th>238</th>\n",
              "      <td>496</td>\n",
              "      <td>1</td>\n",
              "      <td>2017-07-20 00:00:00</td>\n",
              "      <td>2007-08-23 00:00:00</td>\n",
              "      <td>118</td>\n",
              "      <td>9.833333</td>\n",
              "      <td>Australian</td>\n",
              "      <td>NaN</td>\n",
              "      <td>0.0</td>\n",
              "      <td>English</td>\n",
              "      <td>...</td>\n",
              "      <td>0.6628</td>\n",
              "      <td>0.5951</td>\n",
              "      <td>0.5295</td>\n",
              "      <td>0.4979</td>\n",
              "      <td>0.4539</td>\n",
              "      <td>0.4229</td>\n",
              "      <td>0.3871</td>\n",
              "      <td>0.4081</td>\n",
              "      <td>0.3874</td>\n",
              "      <td>0.3852</td>\n",
              "    </tr>\n",
              "  </tbody>\n",
              "</table>\n",
              "<p>239 rows × 146 columns</p>\n",
              "</div>"
            ],
            "text/plain": [
              "     Subject  Gender                  DOT                  DOB  AgeM  \\\n",
              "0          8       0  2016-05-12 00:00:00  2006-12-18 00:00:00   112   \n",
              "1         22       0  2016-05-18 00:00:00  2006-10-27 00:00:00   114   \n",
              "2         24       1  2016-05-18 00:00:00  2006-07-02 00:00:00   118   \n",
              "3         31       0  2016-05-19 00:00:00  2006-06-01 00:00:00   119   \n",
              "4         42       0  2016-05-20 00:00:00  2008-06-03 00:00:00    95   \n",
              "..       ...     ...                  ...                  ...   ...   \n",
              "234      485       1  2017-07-19 00:00:00  2008-10-20 00:00:00   104   \n",
              "235      487       0  2017-07-19 00:00:00  2008-10-30 00:00:00   104   \n",
              "236      494       1  2017-07-20 00:00:00  2008-08-27 00:00:00   106   \n",
              "237      495       1  2017-07-20 00:00:00  2009-04-10 00:00:00    99   \n",
              "238      496       1  2017-07-20 00:00:00  2007-08-23 00:00:00   118   \n",
              "\n",
              "         AgeY        Eth1   Eth2  Unnamed: 15    Lang1  ... f(6168.8433)  \\\n",
              "0    9.333333  Australian    NaN          0.0  English  ...       0.5370   \n",
              "1    9.500000  Australian    NaN          0.0  English  ...       0.2636   \n",
              "2    9.833333  Australian    NaN          0.0  English  ...       0.4269   \n",
              "3    9.916667  Australian    NaN          0.0  English  ...       0.0077   \n",
              "4    7.916667  Australian    NaN          0.0  English  ...       0.2332   \n",
              "..        ...         ...    ...          ...      ...  ...          ...   \n",
              "234  8.666667   Caucasian    NaN          0.0  English  ...       0.2221   \n",
              "235  8.666667  Anglosaxon  Maori          1.0  English  ...       0.5130   \n",
              "236  8.833333  Australian    NaN          0.0  English  ...       0.6157   \n",
              "237  8.250000  Australian    NaN          0.0  English  ...       0.3333   \n",
              "238  9.833333  Australian    NaN          0.0  English  ...       0.6628   \n",
              "\n",
              "     f(6349.6042)  f(6535.6618)  f(6727.1713)  f(6924.2925)  f(7127.1897)  \\\n",
              "0          0.4869        0.4301        0.4080        0.3804        0.3291   \n",
              "1          0.2578        0.2443        0.2549        0.2604        0.2397   \n",
              "2          0.4142        0.3910        0.3799        0.3740        0.3536   \n",
              "3          0.0123        0.0066       -0.0024        0.0126        0.0231   \n",
              "4          0.2216        0.2228        0.2653        0.2596        0.2576   \n",
              "..            ...           ...           ...           ...           ...   \n",
              "234        0.1930        0.1592        0.1549        0.1346        0.1250   \n",
              "235        0.4766        0.4316        0.4108        0.3587        0.3216   \n",
              "236        0.5506        0.4832        0.4501        0.3983        0.3545   \n",
              "237        0.2819        0.2302        0.2029        0.1586        0.1279   \n",
              "238        0.5951        0.5295        0.4979        0.4539        0.4229   \n",
              "\n",
              "     f(7336.0323)  f(7550.9945) f(7772.2555)  f(8000.0000)  \n",
              "0          0.2951        0.2530       0.2282        0.2003  \n",
              "1          0.2299        0.2048       0.1917        0.1659  \n",
              "2          0.3473        0.3237       0.3056        0.2881  \n",
              "3          0.0405        0.0401       0.0391        0.0258  \n",
              "4          0.2838        0.3598       0.3953        0.3642  \n",
              "..            ...           ...          ...           ...  \n",
              "234        0.1125        0.1242       0.1356        0.1372  \n",
              "235        0.2877        0.3026       0.2838        0.2682  \n",
              "236        0.3115        0.3136       0.2871        0.2679  \n",
              "237        0.0934        0.0612       0.0427        0.0031  \n",
              "238        0.3871        0.4081       0.3874        0.3852  \n",
              "\n",
              "[239 rows x 146 columns]"
            ]
          },
          "execution_count": 15,
          "metadata": {},
          "output_type": "execute_result"
        }
      ],
      "source": [
        "df"
      ]
    },
    {
      "cell_type": "code",
      "execution_count": 16,
      "metadata": {
        "id": "eRHwdGrloOa1"
      },
      "outputs": [
        {
          "data": {
            "text/html": [
              "<div>\n",
              "<style scoped>\n",
              "    .dataframe tbody tr th:only-of-type {\n",
              "        vertical-align: middle;\n",
              "    }\n",
              "\n",
              "    .dataframe tbody tr th {\n",
              "        vertical-align: top;\n",
              "    }\n",
              "\n",
              "    .dataframe thead th {\n",
              "        text-align: right;\n",
              "    }\n",
              "</style>\n",
              "<table border=\"1\" class=\"dataframe\">\n",
              "  <thead>\n",
              "    <tr style=\"text-align: right;\">\n",
              "      <th></th>\n",
              "      <th>Frequency</th>\n",
              "      <th>WBA</th>\n",
              "    </tr>\n",
              "  </thead>\n",
              "  <tbody>\n",
              "    <tr>\n",
              "      <th>0</th>\n",
              "      <td>226.0</td>\n",
              "      <td>0.0987</td>\n",
              "    </tr>\n",
              "    <tr>\n",
              "      <th>1</th>\n",
              "      <td>226.0</td>\n",
              "      <td>0.1114</td>\n",
              "    </tr>\n",
              "    <tr>\n",
              "      <th>2</th>\n",
              "      <td>226.0</td>\n",
              "      <td>0.1096</td>\n",
              "    </tr>\n",
              "    <tr>\n",
              "      <th>3</th>\n",
              "      <td>226.0</td>\n",
              "      <td>0.0748</td>\n",
              "    </tr>\n",
              "    <tr>\n",
              "      <th>4</th>\n",
              "      <td>226.0</td>\n",
              "      <td>0.1863</td>\n",
              "    </tr>\n",
              "    <tr>\n",
              "      <th>...</th>\n",
              "      <td>...</td>\n",
              "      <td>...</td>\n",
              "    </tr>\n",
              "    <tr>\n",
              "      <th>25568</th>\n",
              "      <td>8000.0</td>\n",
              "      <td>0.1372</td>\n",
              "    </tr>\n",
              "    <tr>\n",
              "      <th>25569</th>\n",
              "      <td>8000.0</td>\n",
              "      <td>0.2682</td>\n",
              "    </tr>\n",
              "    <tr>\n",
              "      <th>25570</th>\n",
              "      <td>8000.0</td>\n",
              "      <td>0.2679</td>\n",
              "    </tr>\n",
              "    <tr>\n",
              "      <th>25571</th>\n",
              "      <td>8000.0</td>\n",
              "      <td>0.0031</td>\n",
              "    </tr>\n",
              "    <tr>\n",
              "      <th>25572</th>\n",
              "      <td>8000.0</td>\n",
              "      <td>0.3852</td>\n",
              "    </tr>\n",
              "  </tbody>\n",
              "</table>\n",
              "<p>25573 rows × 2 columns</p>\n",
              "</div>"
            ],
            "text/plain": [
              "       Frequency     WBA\n",
              "0          226.0  0.0987\n",
              "1          226.0  0.1114\n",
              "2          226.0  0.1096\n",
              "3          226.0  0.0748\n",
              "4          226.0  0.1863\n",
              "...          ...     ...\n",
              "25568     8000.0  0.1372\n",
              "25569     8000.0  0.2682\n",
              "25570     8000.0  0.2679\n",
              "25571     8000.0  0.0031\n",
              "25572     8000.0  0.3852\n",
              "\n",
              "[25573 rows x 2 columns]"
            ]
          },
          "execution_count": 16,
          "metadata": {},
          "output_type": "execute_result"
        }
      ],
      "source": [
        "wba_df = df.iloc[:,39:].melt(var_name='Frequency', value_name='WBA')\n",
        "wba_df[\"Frequency\"] = wba_df[\"Frequency\"].str[2:-1].astype(float)\n",
        "wba_df[\"WBA\"] = wba_df[\"WBA\"].astype(float)\n",
        "wba_df"
      ]
    },
    {
      "cell_type": "code",
      "execution_count": 17,
      "metadata": {
        "colab": {
          "base_uri": "https://localhost:8080/",
          "height": 265
        },
        "id": "60N60ejzoVTt",
        "outputId": "f231c95e-4b56-4007-bea7-e3c5d17ab490"
      },
      "outputs": [
        {
          "data": {
            "image/png": "[encoded data removed]",
            "text/plain": [
              "<Figure size 432x288 with 1 Axes>"
            ]
          },
          "metadata": {
            "needs_background": "light"
          },
          "output_type": "display_data"
        }
      ],
      "source": [
        "import matplotlib.pyplot as plt\n",
        "\n",
        "plt.scatter(wba_df[\"Frequency\"], wba_df[\"WBA\"], alpha=0.1)\n",
        "plt.show()"
      ]
    },
    {
      "cell_type": "markdown",
      "metadata": {
        "id": "0USpUcxAsuMG"
      },
      "source": [
        "## GAN Model"
      ]
    },
    {
      "cell_type": "code",
      "execution_count": 18,
      "metadata": {
        "colab": {
          "base_uri": "https://localhost:8080/"
        },
        "id": "761RaveasqDs",
        "outputId": "99159694-f804-432a-8da7-ddf672f12be5"
      },
      "outputs": [
        {
          "data": {
            "text/plain": [
              "<torch._C.Generator at 0x7f0aaff0ddd0>"
            ]
          },
          "execution_count": 18,
          "metadata": {},
          "output_type": "execute_result"
        }
      ],
      "source": [
        "import torch\n",
        "from torch import nn\n",
        "\n",
        "import math\n",
        "import matplotlib.pyplot as plt\n",
        "\n",
        "torch.manual_seed(111)"
      ]
    },
    {
      "cell_type": "code",
      "execution_count": 19,
      "metadata": {
        "colab": {
          "base_uri": "https://localhost:8080/",
          "height": 283
        },
        "id": "oDoKjZUgs2p3",
        "outputId": "7cea1c1a-47c9-4027-9850-31804a41df4a"
      },
      "outputs": [
        {
          "data": {
            "text/plain": [
              "tensor([[2.2600e+02, 9.8700e-02],\n",
              "        [2.2600e+02, 1.1140e-01],\n",
              "        [2.2600e+02, 1.0960e-01],\n",
              "        ...,\n",
              "        [8.0000e+03, 2.6790e-01],\n",
              "        [8.0000e+03, 3.1000e-03],\n",
              "        [8.0000e+03, 3.8520e-01]])"
            ]
          },
          "execution_count": 19,
          "metadata": {},
          "output_type": "execute_result"
        }
      ],
      "source": [
        "train_set = torch.tensor(wba_df[[\"Frequency\",\"WBA\"]].values, dtype=torch.float32)\n",
        "train_set"
      ]
    },
    {
      "cell_type": "code",
      "execution_count": 20,
      "metadata": {
        "id": "PClQ4lJtu5wk"
      },
      "outputs": [],
      "source": [
        "batch_size = 64\n",
        "train_loader = torch.utils.data.DataLoader(\n",
        "    train_set, batch_size=batch_size, shuffle=True\n",
        ")"
      ]
    },
    {
      "cell_type": "code",
      "execution_count": 29,
      "metadata": {
        "id": "mKedXQUwvkSf"
      },
      "outputs": [],
      "source": [
        "class Discriminator(nn.Module):\n",
        "  def __init__(self):\n",
        "    super().__init__()\n",
        "    self.model = nn.Sequential(\n",
        "        nn.Linear(2, 16),\n",
        "        nn.LeakyReLU(0.1),\n",
        "        nn.Linear(16, 32),\n",
        "        nn.LeakyReLU(0.1),\n",
        "        nn.Linear(32, 1),\n",
        "        nn.Sigmoid()\n",
        "    )\n",
        "\n",
        "  def forward(self, x):\n",
        "    output = self.model(x)\n",
        "    return output\n",
        "\n",
        "discriminator = Discriminator()"
      ]
    },
    {
      "cell_type": "code",
      "execution_count": 30,
      "metadata": {
        "id": "oPAMoWsNvmhW"
      },
      "outputs": [],
      "source": [
        "class Generator(nn.Module):\n",
        "  def __init__(self):\n",
        "    super().__init__()\n",
        "    self.model = nn.Sequential(\n",
        "        nn.Linear(2, 16),\n",
        "        nn.LeakyReLU(0.1),\n",
        "        nn.Linear(16, 32),\n",
        "        nn.LeakyReLU(0.1),\n",
        "        nn.Linear(32, 2),\n",
        "    )\n",
        "  \n",
        "  def forward(self, x):\n",
        "    output = self.model(x)\n",
        "    return output\n",
        "\n",
        "generator = Generator()"
      ]
    },
    {
      "cell_type": "code",
      "execution_count": 31,
      "metadata": {
        "id": "5yRnEJ3Ovo-8"
      },
      "outputs": [],
      "source": [
        "lr = 0.001\n",
        "num_epochs = 150\n",
        "loss_function = nn.BCELoss()\n",
        "\n",
        "optimizer_discriminator = torch.optim.Adam(discriminator.parameters(), lr=lr)\n",
        "optimizer_generator = torch.optim.Adam(generator.parameters(), lr=lr)"
      ]
    },
    {
      "cell_type": "code",
      "execution_count": 32,
      "metadata": {
        "colab": {
          "base_uri": "https://localhost:8080/"
        },
        "id": "ZbYMoivPvrHw",
        "outputId": "dbe6df80-087b-4a03-c795-f778ccb14f08"
      },
      "outputs": [
        {
          "name": "stdout",
          "output_type": "stream",
          "text": [
            "Epoch: 0 Loss D.: 0.29267483949661255\n",
            "Epoch: 0 Loss G.: 0.8198658227920532\n",
            "Epoch: 10 Loss D.: 0.03348810598254204\n",
            "Epoch: 10 Loss G.: 6.860405921936035\n",
            "Epoch: 20 Loss D.: 0.2226039469242096\n",
            "Epoch: 20 Loss G.: 2.6383752822875977\n",
            "Epoch: 30 Loss D.: 0.4418756365776062\n",
            "Epoch: 30 Loss G.: 1.3937633037567139\n",
            "Epoch: 40 Loss D.: 0.8499751687049866\n",
            "Epoch: 40 Loss G.: 0.9456368684768677\n",
            "Epoch: 50 Loss D.: 0.720907986164093\n",
            "Epoch: 50 Loss G.: 0.7314074039459229\n",
            "Epoch: 60 Loss D.: 1.112776279449463\n",
            "Epoch: 60 Loss G.: 0.353077232837677\n",
            "Epoch: 70 Loss D.: 0.5726898312568665\n",
            "Epoch: 70 Loss G.: 1.494637370109558\n",
            "Epoch: 80 Loss D.: 0.4862782955169678\n",
            "Epoch: 80 Loss G.: 0.9781246781349182\n",
            "Epoch: 90 Loss D.: 0.8751341104507446\n",
            "Epoch: 90 Loss G.: 0.4346490800380707\n",
            "Epoch: 100 Loss D.: 0.6570684909820557\n",
            "Epoch: 100 Loss G.: 0.757473886013031\n",
            "Epoch: 110 Loss D.: 0.6706567406654358\n",
            "Epoch: 110 Loss G.: 0.9046602249145508\n",
            "Epoch: 120 Loss D.: 1.2767413854599\n",
            "Epoch: 120 Loss G.: 0.42825764417648315\n",
            "Epoch: 130 Loss D.: 0.8271510004997253\n",
            "Epoch: 130 Loss G.: 0.5607948303222656\n",
            "Epoch: 140 Loss D.: 1.0652449131011963\n",
            "Epoch: 140 Loss G.: 0.3070761263370514\n"
          ]
        }
      ],
      "source": [
        "for epoch in range(num_epochs): # 1 min per 10 epochs\n",
        "  for n, real_samples in enumerate(train_loader):\n",
        "    if len(real_samples) != batch_size:\n",
        "      continue\n",
        "    \n",
        "    # Data for training the discriminator\n",
        "    real_samples_labels = torch.ones((batch_size, 1))\n",
        "    latent_space_samples = torch.randn((batch_size, 2))\n",
        "    generated_samples = generator(latent_space_samples)\n",
        "    generated_samples_labels = torch.zeros((batch_size, 1))\n",
        "    all_samples = torch.cat((real_samples, generated_samples))\n",
        "    all_samples_labels = torch.cat((real_samples_labels, generated_samples_labels))\n",
        "\n",
        "    # Training the discriminator\n",
        "    discriminator.zero_grad()\n",
        "    output_discriminator = discriminator(all_samples)\n",
        "    loss_discriminator = loss_function(output_discriminator, all_samples_labels)\n",
        "    loss_discriminator.backward()\n",
        "    optimizer_discriminator.step()\n",
        "\n",
        "    # Data for training the generator\n",
        "    latent_space_samples = torch.randn((batch_size, 2))\n",
        "\n",
        "    # Training the generator\n",
        "    generator.zero_grad()\n",
        "    generated_samples = generator(latent_space_samples)\n",
        "    output_discriminator_generated = discriminator(generated_samples)\n",
        "    loss_generator = loss_function(output_discriminator_generated, real_samples_labels)\n",
        "    loss_generator.backward()\n",
        "    optimizer_generator.step()\n",
        "\n",
        "    # Show loss\n",
        "    if epoch % 10 == 0 and n == batch_size - 1:\n",
        "      print(f\"Epoch: {epoch} Loss D.: {loss_discriminator}\")\n",
        "      print(f\"Epoch: {epoch} Loss G.: {loss_generator}\")"
      ]
    },
    {
      "cell_type": "code",
      "execution_count": 34,
      "metadata": {
        "colab": {
          "base_uri": "https://localhost:8080/",
          "height": 283
        },
        "id": "hK39vcZd1DFl",
        "outputId": "c3f580e4-0f25-4d14-a35f-85634c2b07dd"
      },
      "outputs": [
        {
          "data": {
            "text/plain": [
              "[<matplotlib.lines.Line2D at 0x7f099b27ba30>]"
            ]
          },
          "execution_count": 34,
          "metadata": {},
          "output_type": "execute_result"
        },
        {
          "data": {
            "image/png": "[encoded data removed]",
            "text/plain": [
              "<Figure size 432x288 with 1 Axes>"
            ]
          },
          "metadata": {
            "needs_background": "light"
          },
          "output_type": "display_data"
        }
      ],
      "source": [
        "latent_space_samples = torch.randn((batch_size, 2))\n",
        "generated_samples = generator(latent_space_samples)\n",
        "generated_samples = generated_samples.detach()\n",
        "plt.plot(generated_samples[:, 0], generated_samples[:, 1], \".\")"
      ]
    }
  ],
  "metadata": {
    "colab": {
      "provenance": []
    },
    "kernelspec": {
      "display_name": "Python 3.8.13 64-bit ('cits4012')",
      "language": "python",
      "name": "python3"
    },
    "language_info": {
      "codemirror_mode": {
        "name": "ipython",
        "version": 3
      },
      "file_extension": ".py",
      "mimetype": "text/x-python",
      "name": "python",
      "nbconvert_exporter": "python",
      "pygments_lexer": "ipython3",
      "version": "3.8.13"
    },
    "vscode": {
      "interpreter": {
        "hash": "c754efd105e55d7451c4e1631b4d85e215c7123c0d1547f32499d593cf9ed0dd"
      }
    }
  },
  "nbformat": 4,
  "nbformat_minor": 0
}
