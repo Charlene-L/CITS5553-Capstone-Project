{
  "nbformat": 4,
  "nbformat_minor": 0,
  "metadata": {
    "colab": {
      "provenance": []
    },
    "kernelspec": {
      "name": "python3",
      "display_name": "Python 3"
    },
    "language_info": {
      "name": "python"
    },
    "gpuClass": "standard"
  },
  "cells": [
    {
      "cell_type": "markdown",
      "source": [
        "## Initialize the Environment"
      ],
      "metadata": {
        "id": "Bblw1f8IRH8J"
      }
    },
    {
      "cell_type": "code",
      "execution_count": null,
      "metadata": {
        "colab": {
          "base_uri": "https://localhost:8080/"
        },
        "id": "VcLai1tcQJ9M",
        "outputId": "91e4a218-8b77-4b1a-cc80-aecfe03b56db"
      },
      "outputs": [
        {
          "output_type": "execute_result",
          "data": {
            "text/plain": [
              "<torch._C.Generator at 0x7fb829a4ca30>"
            ]
          },
          "metadata": {},
          "execution_count": 1
        }
      ],
      "source": [
        "import torch\n",
        "from torch import nn\n",
        "\n",
        "import math\n",
        "import matplotlib.pyplot as plt\n",
        "\n",
        "torch.manual_seed(111)"
      ]
    },
    {
      "cell_type": "markdown",
      "source": [
        "## Prepare the Training Data"
      ],
      "metadata": {
        "id": "jn_YM9uaRPmp"
      }
    },
    {
      "cell_type": "code",
      "source": [
        "train_data_length = 1024\n",
        "train_data = torch.zeros((train_data_length, 2))\n",
        "train_data[:, 0] = 2 * math.pi * torch.rand(train_data_length)\n",
        "train_data[:, 1] = torch.sin(train_data[:, 0])\n",
        "train_labels = torch.zeros(train_data_length)\n",
        "train_set = [\n",
        "    (train_data[i], train_labels[i]) for i in range(train_data_length)\n",
        "]\n",
        "\n",
        "plt.plot(train_data[:, 0], train_data[:, 1], \".\")"
      ],
      "metadata": {
        "colab": {
          "base_uri": "https://localhost:8080/",
          "height": 282
        },
        "id": "BzIOgqslRHjZ",
        "outputId": "ff745494-dcbd-450d-afee-7bca007225c3"
      },
      "execution_count": null,
      "outputs": [
        {
          "output_type": "execute_result",
          "data": {
            "text/plain": [
              "[<matplotlib.lines.Line2D at 0x7fb896031910>]"
            ]
          },
          "metadata": {},
          "execution_count": 2
        },
        {
          "output_type": "display_data",
          "data": {
            "text/plain": [
              "<Figure size 432x288 with 1 Axes>"
            ],
            "image/png": "[encoded data removed]"
          },
          "metadata": {
            "needs_background": "light"
          }
        }
      ]
    },
    {
      "cell_type": "markdown",
      "source": [
        "## Data Loader"
      ],
      "metadata": {
        "id": "8ABxOi9ESdc9"
      }
    },
    {
      "cell_type": "code",
      "source": [
        "batch_size = 32\n",
        "train_loader = torch.utils.data.DataLoader(\n",
        "    train_set, batch_size=batch_size, shuffle=True\n",
        ")"
      ],
      "metadata": {
        "id": "4OWjrb-ZSgXj"
      },
      "execution_count": null,
      "outputs": []
    },
    {
      "cell_type": "markdown",
      "source": [
        "## Discriminator"
      ],
      "metadata": {
        "id": "hUPsKcvzSxLD"
      }
    },
    {
      "cell_type": "code",
      "source": [
        "class Discriminator(nn.Module):\n",
        "  def __init__(self):\n",
        "    super().__init__()\n",
        "    self.model = nn.Sequential(\n",
        "        nn.Linear(2, 256),\n",
        "        nn.ReLU(),\n",
        "        nn.Dropout(0.3),\n",
        "        nn.Linear(256, 128),\n",
        "        nn.ReLU(),\n",
        "        nn.Dropout(0.3),\n",
        "        nn.Linear(128, 64),\n",
        "        nn.ReLU(),\n",
        "        nn.Dropout(0.3),\n",
        "        nn.Linear(64, 1),\n",
        "        nn.Sigmoid(),\n",
        "    )\n",
        "\n",
        "  def forward(self, x):\n",
        "    output = self.model(x)\n",
        "    return output\n",
        "\n",
        "discriminator = Discriminator()"
      ],
      "metadata": {
        "id": "5Chjsp1AS0EH"
      },
      "execution_count": null,
      "outputs": []
    },
    {
      "cell_type": "markdown",
      "source": [
        "## Generator"
      ],
      "metadata": {
        "id": "wmDdpqzNUQsg"
      }
    },
    {
      "cell_type": "code",
      "source": [
        "class Generator(nn.Module):\n",
        "  def __init__(self):\n",
        "    super().__init__()\n",
        "    self.model = nn.Sequential(\n",
        "        nn.Linear(2, 16),\n",
        "        nn.ReLU(),\n",
        "        nn.Linear(16, 32),\n",
        "        nn.ReLU(),\n",
        "        nn.Linear(32, 2),\n",
        "    )\n",
        "  \n",
        "  def forward(self, x):\n",
        "    output = self.model(x)\n",
        "    return output\n",
        "\n",
        "generator = Generator()"
      ],
      "metadata": {
        "id": "LS6g2U1SUS9o"
      },
      "execution_count": null,
      "outputs": []
    },
    {
      "cell_type": "markdown",
      "source": [
        "## Train the Models"
      ],
      "metadata": {
        "id": "SBBdpPxiU6T7"
      }
    },
    {
      "cell_type": "code",
      "source": [
        "lr = 0.001\n",
        "num_epochs = 100\n",
        "loss_function = nn.BCELoss()\n",
        "\n",
        "optimizer_discriminator = torch.optim.Adam(discriminator.parameters(), lr=lr)\n",
        "optimizer_generator = torch.optim.Adam(generator.parameters(), lr=lr)"
      ],
      "metadata": {
        "id": "3FzrLiKwU8kr"
      },
      "execution_count": null,
      "outputs": []
    },
    {
      "cell_type": "code",
      "source": [
        "for epoch in range(num_epochs):\n",
        "  for n, (real_samples, _) in enumerate(train_loader):\n",
        "\n",
        "    # Data for training the discriminator\n",
        "    real_samples_labels = torch.ones((batch_size, 1))\n",
        "    latent_space_samples = torch.randn((batch_size, 2))\n",
        "    generated_samples = generator(latent_space_samples)\n",
        "    generated_samples_labels = torch.zeros((batch_size, 1))\n",
        "    all_samples = torch.cat((real_samples, generated_samples))\n",
        "    all_samples_labels = torch.cat((real_samples_labels, generated_samples_labels))\n",
        "\n",
        "    # Training the discriminator\n",
        "    discriminator.zero_grad()\n",
        "    output_discriminator = discriminator(all_samples)\n",
        "    loss_discriminator = loss_function(output_discriminator, all_samples_labels)\n",
        "    loss_discriminator.backward()\n",
        "    optimizer_discriminator.step()\n",
        "\n",
        "    # Data for training the generator\n",
        "    latent_space_samples = torch.randn((batch_size, 2))\n",
        "\n",
        "    # Training the generator\n",
        "    generator.zero_grad()\n",
        "    generated_samples = generator(latent_space_samples)\n",
        "    output_discriminator_generated = discriminator(generated_samples)\n",
        "    loss_generator = loss_function(output_discriminator_generated, real_samples_labels)\n",
        "    loss_generator.backward()\n",
        "    optimizer_generator.step()\n",
        "\n",
        "    # Show loss\n",
        "    if epoch % 10 == 0 and n == batch_size - 1:\n",
        "      print(f\"Epoch: {epoch} Loss D.: {loss_discriminator}\")\n",
        "      print(f\"Epoch: {epoch} Loss G.: {loss_generator}\")"
      ],
      "metadata": {
        "colab": {
          "base_uri": "https://localhost:8080/"
        },
        "id": "3ozNtrrCVdXB",
        "outputId": "ac03d442-9007-4c92-8948-527dcb846dbe"
      },
      "execution_count": null,
      "outputs": [
        {
          "output_type": "stream",
          "name": "stdout",
          "text": [
            "Epoch: 0 Loss D.: 0.658380389213562\n",
            "Epoch: 0 Loss G.: 0.9853957295417786\n",
            "Epoch: 10 Loss D.: 0.6467640995979309\n",
            "Epoch: 10 Loss G.: 0.8555415272712708\n",
            "Epoch: 20 Loss D.: 0.6930250525474548\n",
            "Epoch: 20 Loss G.: 1.1613558530807495\n",
            "Epoch: 30 Loss D.: 0.5763177871704102\n",
            "Epoch: 30 Loss G.: 0.9475609660148621\n",
            "Epoch: 40 Loss D.: 0.6838077902793884\n",
            "Epoch: 40 Loss G.: 0.7834959626197815\n",
            "Epoch: 50 Loss D.: 0.6599805355072021\n",
            "Epoch: 50 Loss G.: 0.7477537393569946\n",
            "Epoch: 60 Loss D.: 0.6949367523193359\n",
            "Epoch: 60 Loss G.: 0.749413013458252\n",
            "Epoch: 70 Loss D.: 0.7331236600875854\n",
            "Epoch: 70 Loss G.: 0.7457100749015808\n",
            "Epoch: 80 Loss D.: 0.65522301197052\n",
            "Epoch: 80 Loss G.: 0.6254198551177979\n",
            "Epoch: 90 Loss D.: 0.666719377040863\n",
            "Epoch: 90 Loss G.: 0.8664772510528564\n"
          ]
        }
      ]
    },
    {
      "cell_type": "markdown",
      "source": [
        "## Evaluate the Model"
      ],
      "metadata": {
        "id": "Eghh0eITY1RB"
      }
    },
    {
      "cell_type": "code",
      "source": [
        "latent_space_samples = torch.randn(100, 2)\n",
        "generated_samples = generator(latent_space_samples)\n",
        "generated_samples = generated_samples.detach()\n",
        "plt.plot(generated_samples[:, 0], generated_samples[:, 1], \".\")"
      ],
      "metadata": {
        "colab": {
          "base_uri": "https://localhost:8080/",
          "height": 282
        },
        "id": "7J56efPOY3qp",
        "outputId": "065b01f5-7154-4fde-decb-e2a44eb0fc40"
      },
      "execution_count": null,
      "outputs": [
        {
          "output_type": "execute_result",
          "data": {
            "text/plain": [
              "[<matplotlib.lines.Line2D at 0x7fb82822b6d0>]"
            ]
          },
          "metadata": {},
          "execution_count": 13
        },
        {
          "output_type": "display_data",
          "data": {
            "text/plain": [
              "<Figure size 432x288 with 1 Axes>"
            ],
            "image/png": "[encoded data removed]"
          },
          "metadata": {
            "needs_background": "light"
          }
        }
      ]
    },
    {
      "cell_type": "code",
      "source": [
        "for epoch in range(num_epochs):\n",
        "  for n, (real_samples, _) in enumerate(train_loader):\n",
        "\n",
        "    # Data for training the discriminator\n",
        "    real_samples_labels = torch.ones((batch_size, 1))\n",
        "    latent_space_samples = torch.randn((batch_size, 2))\n",
        "    generated_samples = generator(latent_space_samples)\n",
        "    generated_samples_labels = torch.zeros((batch_size, 1))\n",
        "    all_samples = torch.cat((real_samples, generated_samples))\n",
        "    all_samples_labels = torch.cat((real_samples_labels, generated_samples_labels))\n",
        "\n",
        "    # Training the discriminator\n",
        "    discriminator.zero_grad()\n",
        "    output_discriminator = discriminator(all_samples)\n",
        "    loss_discriminator = loss_function(output_discriminator, all_samples_labels)\n",
        "    loss_discriminator.backward()\n",
        "    optimizer_discriminator.step()\n",
        "\n",
        "    # Data for training the generator\n",
        "    latent_space_samples = torch.randn((batch_size, 2))\n",
        "\n",
        "    # Training the generator\n",
        "    generator.zero_grad()\n",
        "    generated_samples = generator(latent_space_samples)\n",
        "    output_discriminator_generated = discriminator(generated_samples)\n",
        "    loss_generator = loss_function(output_discriminator_generated, real_samples_labels)\n",
        "    loss_generator.backward()\n",
        "    optimizer_generator.step()\n",
        "\n",
        "    # Show loss\n",
        "    if epoch % 10 == 0 and n == batch_size - 1:\n",
        "      print(f\"Epoch: {epoch} Loss D.: {loss_discriminator}\")\n",
        "      print(f\"Epoch: {epoch} Loss G.: {loss_generator}\")"
      ],
      "metadata": {
        "colab": {
          "base_uri": "https://localhost:8080/"
        },
        "id": "FJTkbvnRceCy",
        "outputId": "40ea2154-2946-4812-cb04-a966bb210d9b"
      },
      "execution_count": null,
      "outputs": [
        {
          "output_type": "stream",
          "name": "stdout",
          "text": [
            "Epoch: 0 Loss D.: 0.6594274044036865\n",
            "Epoch: 0 Loss G.: 0.6742120981216431\n",
            "Epoch: 10 Loss D.: 0.7810600996017456\n",
            "Epoch: 10 Loss G.: 0.5896744132041931\n",
            "Epoch: 20 Loss D.: 0.7147291898727417\n",
            "Epoch: 20 Loss G.: 0.6801104545593262\n",
            "Epoch: 30 Loss D.: 0.666420578956604\n",
            "Epoch: 30 Loss G.: 0.7128800749778748\n",
            "Epoch: 40 Loss D.: 0.7029258608818054\n",
            "Epoch: 40 Loss G.: 0.738673210144043\n",
            "Epoch: 50 Loss D.: 0.7037453651428223\n",
            "Epoch: 50 Loss G.: 0.8513957262039185\n",
            "Epoch: 60 Loss D.: 0.6612251400947571\n",
            "Epoch: 60 Loss G.: 0.7528995275497437\n",
            "Epoch: 70 Loss D.: 0.70008385181427\n",
            "Epoch: 70 Loss G.: 0.7822933197021484\n",
            "Epoch: 80 Loss D.: 0.6291502714157104\n",
            "Epoch: 80 Loss G.: 0.8528103828430176\n",
            "Epoch: 90 Loss D.: 0.6520348787307739\n",
            "Epoch: 90 Loss G.: 0.7327625751495361\n"
          ]
        }
      ]
    },
    {
      "cell_type": "code",
      "source": [
        "latent_space_samples = torch.randn(100, 2)\n",
        "generated_samples = generator(latent_space_samples)\n",
        "generated_samples = generated_samples.detach()\n",
        "plt.plot(generated_samples[:, 0], generated_samples[:, 1], \".\")"
      ],
      "metadata": {
        "colab": {
          "base_uri": "https://localhost:8080/",
          "height": 282
        },
        "id": "0tJBaEkpciHj",
        "outputId": "bd999c35-fc60-4fd2-d9be-829f5d4a2dce"
      },
      "execution_count": null,
      "outputs": [
        {
          "output_type": "execute_result",
          "data": {
            "text/plain": [
              "[<matplotlib.lines.Line2D at 0x7fb8282ac610>]"
            ]
          },
          "metadata": {},
          "execution_count": 10
        },
        {
          "output_type": "display_data",
          "data": {
            "text/plain": [
              "<Figure size 432x288 with 1 Axes>"
            ],
            "image/png": "[encoded data removed]"
          },
          "metadata": {
            "needs_background": "light"
          }
        }
      ]
    }
  ]
}