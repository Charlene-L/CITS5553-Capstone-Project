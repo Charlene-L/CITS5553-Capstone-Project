{
 "cells": [
  {
   "cell_type": "markdown",
   "metadata": {},
   "source": [
    "# Feature Selection\n"
   ]
  },
  {
   "cell_type": "markdown",
   "metadata": {},
   "source": [
    "Using the algorithm Boruta for feature selection"
   ]
  },
  {
   "cell_type": "code",
   "execution_count": 1,
   "metadata": {},
   "outputs": [],
   "source": [
    "#loading the libraries\n",
    "import pandas as pd\n",
    "from sklearn.ensemble import RandomForestRegressor\n",
    "from boruta import BorutaPy\n",
    "import pandas as pd\n",
    "import numpy as np"
   ]
  },
  {
   "cell_type": "code",
   "execution_count": 34,
   "metadata": {},
   "outputs": [
    {
     "data": {
      "text/html": [
       "<div>\n",
       "<style scoped>\n",
       "    .dataframe tbody tr th:only-of-type {\n",
       "        vertical-align: middle;\n",
       "    }\n",
       "\n",
       "    .dataframe tbody tr th {\n",
       "        vertical-align: top;\n",
       "    }\n",
       "\n",
       "    .dataframe thead th {\n",
       "        text-align: right;\n",
       "    }\n",
       "</style>\n",
       "<table border=\"1\" class=\"dataframe\">\n",
       "  <thead>\n",
       "    <tr style=\"text-align: right;\">\n",
       "      <th></th>\n",
       "      <th>Gender</th>\n",
       "      <th>AgeY</th>\n",
       "      <th>PTA0.5</th>\n",
       "      <th>PTA1</th>\n",
       "      <th>PTA2</th>\n",
       "      <th>PTA4</th>\n",
       "      <th>PTAAv4FA</th>\n",
       "      <th>ECV</th>\n",
       "      <th>TPP</th>\n",
       "      <th>SC</th>\n",
       "      <th>...</th>\n",
       "      <th>f(6168.8433)</th>\n",
       "      <th>f(6349.6042)</th>\n",
       "      <th>f(6535.6618)</th>\n",
       "      <th>f(6727.1713)</th>\n",
       "      <th>f(6924.2925)</th>\n",
       "      <th>f(7127.1897)</th>\n",
       "      <th>f(7336.0323)</th>\n",
       "      <th>f(7550.9945)</th>\n",
       "      <th>f(7772.2555)</th>\n",
       "      <th>f(8000.0000)</th>\n",
       "    </tr>\n",
       "  </thead>\n",
       "  <tbody>\n",
       "    <tr>\n",
       "      <th>0</th>\n",
       "      <td>0</td>\n",
       "      <td>9.333333</td>\n",
       "      <td>20</td>\n",
       "      <td>20</td>\n",
       "      <td>20</td>\n",
       "      <td>20</td>\n",
       "      <td>20</td>\n",
       "      <td>1.08</td>\n",
       "      <td>-189.0</td>\n",
       "      <td>0.52</td>\n",
       "      <td>...</td>\n",
       "      <td>0.5370</td>\n",
       "      <td>0.4869</td>\n",
       "      <td>0.4301</td>\n",
       "      <td>0.4080</td>\n",
       "      <td>0.3804</td>\n",
       "      <td>0.3291</td>\n",
       "      <td>0.2951</td>\n",
       "      <td>0.2530</td>\n",
       "      <td>0.2282</td>\n",
       "      <td>0.2003</td>\n",
       "    </tr>\n",
       "    <tr>\n",
       "      <th>1</th>\n",
       "      <td>0</td>\n",
       "      <td>9.500000</td>\n",
       "      <td>20</td>\n",
       "      <td>20</td>\n",
       "      <td>20</td>\n",
       "      <td>20</td>\n",
       "      <td>20</td>\n",
       "      <td>1.28</td>\n",
       "      <td>-49.0</td>\n",
       "      <td>1.28</td>\n",
       "      <td>...</td>\n",
       "      <td>0.2636</td>\n",
       "      <td>0.2578</td>\n",
       "      <td>0.2443</td>\n",
       "      <td>0.2549</td>\n",
       "      <td>0.2604</td>\n",
       "      <td>0.2397</td>\n",
       "      <td>0.2299</td>\n",
       "      <td>0.2048</td>\n",
       "      <td>0.1917</td>\n",
       "      <td>0.1659</td>\n",
       "    </tr>\n",
       "    <tr>\n",
       "      <th>2</th>\n",
       "      <td>1</td>\n",
       "      <td>9.833333</td>\n",
       "      <td>20</td>\n",
       "      <td>20</td>\n",
       "      <td>20</td>\n",
       "      <td>20</td>\n",
       "      <td>20</td>\n",
       "      <td>1.26</td>\n",
       "      <td>-27.0</td>\n",
       "      <td>0.87</td>\n",
       "      <td>...</td>\n",
       "      <td>0.4269</td>\n",
       "      <td>0.4142</td>\n",
       "      <td>0.3910</td>\n",
       "      <td>0.3799</td>\n",
       "      <td>0.3740</td>\n",
       "      <td>0.3536</td>\n",
       "      <td>0.3473</td>\n",
       "      <td>0.3237</td>\n",
       "      <td>0.3056</td>\n",
       "      <td>0.2881</td>\n",
       "    </tr>\n",
       "    <tr>\n",
       "      <th>3</th>\n",
       "      <td>0</td>\n",
       "      <td>9.916667</td>\n",
       "      <td>20</td>\n",
       "      <td>20</td>\n",
       "      <td>20</td>\n",
       "      <td>20</td>\n",
       "      <td>20</td>\n",
       "      <td>0.64</td>\n",
       "      <td>-8.0</td>\n",
       "      <td>0.60</td>\n",
       "      <td>...</td>\n",
       "      <td>0.0077</td>\n",
       "      <td>0.0123</td>\n",
       "      <td>0.0066</td>\n",
       "      <td>0.0000</td>\n",
       "      <td>0.0126</td>\n",
       "      <td>0.0231</td>\n",
       "      <td>0.0405</td>\n",
       "      <td>0.0401</td>\n",
       "      <td>0.0391</td>\n",
       "      <td>0.0258</td>\n",
       "    </tr>\n",
       "    <tr>\n",
       "      <th>4</th>\n",
       "      <td>0</td>\n",
       "      <td>7.916667</td>\n",
       "      <td>20</td>\n",
       "      <td>20</td>\n",
       "      <td>20</td>\n",
       "      <td>20</td>\n",
       "      <td>20</td>\n",
       "      <td>0.92</td>\n",
       "      <td>-17.0</td>\n",
       "      <td>1.65</td>\n",
       "      <td>...</td>\n",
       "      <td>0.2332</td>\n",
       "      <td>0.2216</td>\n",
       "      <td>0.2228</td>\n",
       "      <td>0.2653</td>\n",
       "      <td>0.2596</td>\n",
       "      <td>0.2576</td>\n",
       "      <td>0.2838</td>\n",
       "      <td>0.3598</td>\n",
       "      <td>0.3953</td>\n",
       "      <td>0.3642</td>\n",
       "    </tr>\n",
       "  </tbody>\n",
       "</table>\n",
       "<p>5 rows × 125 columns</p>\n",
       "</div>"
      ],
      "text/plain": [
       "   Gender      AgeY  PTA0.5  PTA1  PTA2  PTA4  PTAAv4FA   ECV    TPP    SC  \\\n",
       "0       0  9.333333      20    20    20    20        20  1.08 -189.0  0.52   \n",
       "1       0  9.500000      20    20    20    20        20  1.28  -49.0  1.28   \n",
       "2       1  9.833333      20    20    20    20        20  1.26  -27.0  0.87   \n",
       "3       0  9.916667      20    20    20    20        20  0.64   -8.0  0.60   \n",
       "4       0  7.916667      20    20    20    20        20  0.92  -17.0  1.65   \n",
       "\n",
       "   ...  f(6168.8433)  f(6349.6042)  f(6535.6618)  f(6727.1713)  f(6924.2925)  \\\n",
       "0  ...        0.5370        0.4869        0.4301        0.4080        0.3804   \n",
       "1  ...        0.2636        0.2578        0.2443        0.2549        0.2604   \n",
       "2  ...        0.4269        0.4142        0.3910        0.3799        0.3740   \n",
       "3  ...        0.0077        0.0123        0.0066        0.0000        0.0126   \n",
       "4  ...        0.2332        0.2216        0.2228        0.2653        0.2596   \n",
       "\n",
       "   f(7127.1897)  f(7336.0323)  f(7550.9945)  f(7772.2555)  f(8000.0000)  \n",
       "0        0.3291        0.2951        0.2530        0.2282        0.2003  \n",
       "1        0.2397        0.2299        0.2048        0.1917        0.1659  \n",
       "2        0.3536        0.3473        0.3237        0.3056        0.2881  \n",
       "3        0.0231        0.0405        0.0401        0.0391        0.0258  \n",
       "4        0.2576        0.2838        0.3598        0.3953        0.3642  \n",
       "\n",
       "[5 rows x 125 columns]"
      ]
     },
     "execution_count": 34,
     "metadata": {},
     "output_type": "execute_result"
    }
   ],
   "source": [
    "#Reading the data\n",
    "df=pd.read_csv(\"Data/WBA_clean.csv\")\n",
    "df=df.iloc[:,:128]\n",
    "df=df.drop([\"Unnamed: 0\", \"TympType\",\"Subject\",], axis=1)\n",
    "df.head()"
   ]
  },
  {
   "cell_type": "code",
   "execution_count": 43,
   "metadata": {},
   "outputs": [
    {
     "name": "stderr",
     "output_type": "stream",
     "text": [
      "/Users/govind/opt/miniconda3/envs/cits5508/lib/python3.8/site-packages/sklearn/utils/validation.py:993: DataConversionWarning: A column-vector y was passed when a 1d array was expected. Please change the shape of y to (n_samples, ), for example using ravel().\n",
      "  y = column_or_1d(y, warn=True)\n",
      "/Users/govind/opt/miniconda3/envs/cits5508/lib/python3.8/site-packages/boruta/boruta_py.py:384: DataConversionWarning: A column-vector y was passed when a 1d array was expected. Please change the shape of y to (n_samples,), for example using ravel().\n",
      "  self.estimator.fit(X, y)\n"
     ]
    },
    {
     "name": "stdout",
     "output_type": "stream",
     "text": [
      "Iteration: \t1 / 10\n",
      "Confirmed: \t0\n",
      "Tentative: \t124\n",
      "Rejected: \t0\n"
     ]
    },
    {
     "name": "stderr",
     "output_type": "stream",
     "text": [
      "/Users/govind/opt/miniconda3/envs/cits5508/lib/python3.8/site-packages/boruta/boruta_py.py:384: DataConversionWarning: A column-vector y was passed when a 1d array was expected. Please change the shape of y to (n_samples,), for example using ravel().\n",
      "  self.estimator.fit(X, y)\n"
     ]
    },
    {
     "name": "stdout",
     "output_type": "stream",
     "text": [
      "Iteration: \t2 / 10\n",
      "Confirmed: \t0\n",
      "Tentative: \t124\n",
      "Rejected: \t0\n"
     ]
    },
    {
     "name": "stderr",
     "output_type": "stream",
     "text": [
      "/Users/govind/opt/miniconda3/envs/cits5508/lib/python3.8/site-packages/boruta/boruta_py.py:384: DataConversionWarning: A column-vector y was passed when a 1d array was expected. Please change the shape of y to (n_samples,), for example using ravel().\n",
      "  self.estimator.fit(X, y)\n"
     ]
    },
    {
     "name": "stdout",
     "output_type": "stream",
     "text": [
      "Iteration: \t3 / 10\n",
      "Confirmed: \t0\n",
      "Tentative: \t124\n",
      "Rejected: \t0\n"
     ]
    },
    {
     "name": "stderr",
     "output_type": "stream",
     "text": [
      "/Users/govind/opt/miniconda3/envs/cits5508/lib/python3.8/site-packages/boruta/boruta_py.py:384: DataConversionWarning: A column-vector y was passed when a 1d array was expected. Please change the shape of y to (n_samples,), for example using ravel().\n",
      "  self.estimator.fit(X, y)\n"
     ]
    },
    {
     "name": "stdout",
     "output_type": "stream",
     "text": [
      "Iteration: \t4 / 10\n",
      "Confirmed: \t0\n",
      "Tentative: \t124\n",
      "Rejected: \t0\n"
     ]
    },
    {
     "name": "stderr",
     "output_type": "stream",
     "text": [
      "/Users/govind/opt/miniconda3/envs/cits5508/lib/python3.8/site-packages/boruta/boruta_py.py:384: DataConversionWarning: A column-vector y was passed when a 1d array was expected. Please change the shape of y to (n_samples,), for example using ravel().\n",
      "  self.estimator.fit(X, y)\n"
     ]
    },
    {
     "name": "stdout",
     "output_type": "stream",
     "text": [
      "Iteration: \t5 / 10\n",
      "Confirmed: \t0\n",
      "Tentative: \t124\n",
      "Rejected: \t0\n"
     ]
    },
    {
     "name": "stderr",
     "output_type": "stream",
     "text": [
      "/Users/govind/opt/miniconda3/envs/cits5508/lib/python3.8/site-packages/boruta/boruta_py.py:384: DataConversionWarning: A column-vector y was passed when a 1d array was expected. Please change the shape of y to (n_samples,), for example using ravel().\n",
      "  self.estimator.fit(X, y)\n"
     ]
    },
    {
     "name": "stdout",
     "output_type": "stream",
     "text": [
      "Iteration: \t6 / 10\n",
      "Confirmed: \t0\n",
      "Tentative: \t124\n",
      "Rejected: \t0\n"
     ]
    },
    {
     "name": "stderr",
     "output_type": "stream",
     "text": [
      "/Users/govind/opt/miniconda3/envs/cits5508/lib/python3.8/site-packages/boruta/boruta_py.py:384: DataConversionWarning: A column-vector y was passed when a 1d array was expected. Please change the shape of y to (n_samples,), for example using ravel().\n",
      "  self.estimator.fit(X, y)\n"
     ]
    },
    {
     "name": "stdout",
     "output_type": "stream",
     "text": [
      "Iteration: \t7 / 10\n",
      "Confirmed: \t0\n",
      "Tentative: \t124\n",
      "Rejected: \t0\n"
     ]
    },
    {
     "name": "stderr",
     "output_type": "stream",
     "text": [
      "/Users/govind/opt/miniconda3/envs/cits5508/lib/python3.8/site-packages/boruta/boruta_py.py:384: DataConversionWarning: A column-vector y was passed when a 1d array was expected. Please change the shape of y to (n_samples,), for example using ravel().\n",
      "  self.estimator.fit(X, y)\n"
     ]
    },
    {
     "name": "stdout",
     "output_type": "stream",
     "text": [
      "Iteration: \t8 / 10\n",
      "Confirmed: \t0\n",
      "Tentative: \t26\n",
      "Rejected: \t98\n"
     ]
    },
    {
     "name": "stderr",
     "output_type": "stream",
     "text": [
      "/Users/govind/opt/miniconda3/envs/cits5508/lib/python3.8/site-packages/boruta/boruta_py.py:384: DataConversionWarning: A column-vector y was passed when a 1d array was expected. Please change the shape of y to (n_samples,), for example using ravel().\n",
      "  self.estimator.fit(X, y)\n"
     ]
    },
    {
     "name": "stdout",
     "output_type": "stream",
     "text": [
      "Iteration: \t9 / 10\n",
      "Confirmed: \t8\n",
      "Tentative: \t18\n",
      "Rejected: \t98\n",
      "\n",
      "\n",
      "BorutaPy finished running.\n",
      "\n",
      "Iteration: \t10 / 10\n",
      "Confirmed: \t8\n",
      "Tentative: \t5\n",
      "Rejected: \t98\n",
      "\n",
      "------Support and Ranking for each feature------\n",
      "Doesn't pass :  Gender  - Ranking:  110\n",
      "Doesn't pass :  AgeY  - Ranking:  100\n",
      "Doesn't pass :  PTA0.5  - Ranking:  110\n",
      "Doesn't pass :  PTA1  - Ranking:  110\n",
      "Doesn't pass :  PTA2  - Ranking:  110\n",
      "Doesn't pass :  PTA4  - Ranking:  110\n",
      "Doesn't pass :  PTAAv4FA  - Ranking:  110\n",
      "Doesn't pass :  ECV  - Ranking:  30\n",
      "Pass:  TPP  - Ranking:  1\n",
      "Doesn't pass :  SC  - Ranking:  95\n",
      "Pass:  OAE1  - Ranking:  1\n",
      "Pass:  OAE1.4  - Ranking:  1\n",
      "Pass:  OAE2  - Ranking:  1\n",
      "Doesn't pass :  OAE2.8  - Ranking:  9\n",
      "Pass:  OAE4  - Ranking:  1\n",
      "Doesn't pass :  Ear coded  - Ranking:  110\n",
      "Doesn't pass :  Pressure  - Ranking:  61\n",
      "Doesn't pass :  f(226.0000)  - Ranking:  18\n",
      "Doesn't pass :  f(257.3256)  - Ranking:  17\n",
      "Doesn't pass :  f(280.6155)  - Ranking:  34\n",
      "Doesn't pass :  f(297.3018)  - Ranking:  47\n",
      "Doesn't pass :  f(324.2099)  - Ranking:  56\n",
      "Doesn't pass :  f(343.4884)  - Ranking:  72\n",
      "Doesn't pass :  f(363.9133)  - Ranking:  97\n",
      "Doesn't pass :  f(385.5527)  - Ranking:  105\n",
      "Doesn't pass :  f(408.4789)  - Ranking:  98\n",
      "Doesn't pass :  f(432.7683)  - Ranking:  66\n",
      "Doesn't pass :  f(458.5020)  - Ranking:  72\n",
      "Doesn't pass :  f(471.9372)  - Ranking:  49\n",
      "Doesn't pass :  f(500.0000)  - Ranking:  101\n",
      "Doesn't pass :  f(514.6511)  - Ranking:  64\n",
      "Doesn't pass :  f(545.2539)  - Ranking:  48\n",
      "Doesn't pass :  f(561.2310)  - Ranking:  55\n",
      "Doesn't pass :  f(577.6763)  - Ranking:  40\n",
      "Doesn't pass :  f(594.6036)  - Ranking:  27\n",
      "Doesn't pass :  f(629.9605)  - Ranking:  25\n",
      "Doesn't pass :  f(648.4198)  - Ranking:  23\n",
      "Doesn't pass :  f(667.4199)  - Ranking:  15\n",
      "Doesn't pass :  f(686.9768)  - Ranking:  14\n",
      "Doesn't pass :  f(707.1068)  - Ranking:  16\n",
      "Doesn't pass :  f(727.8266)  - Ranking:  30\n",
      "Doesn't pass :  f(749.1535)  - Ranking:  39\n",
      "Doesn't pass :  f(771.1054)  - Ranking:  51\n",
      "Doesn't pass :  f(793.7005)  - Ranking:  24\n",
      "Doesn't pass :  f(816.9577)  - Ranking:  44\n",
      "Doesn't pass :  f(840.8964)  - Ranking:  61\n",
      "Doesn't pass :  f(865.5366)  - Ranking:  40\n",
      "Doesn't pass :  f(890.8987)  - Ranking:  33\n",
      "Doesn't pass :  f(917.0040)  - Ranking:  37\n",
      "Doesn't pass :  f(943.8743)  - Ranking:  13\n",
      "Doesn't pass :  f(971.5319)  - Ranking:  7\n",
      "Doesn't pass :  f(1000.0000)  - Ranking:  2\n",
      "Doesn't pass :  f(1029.3022)  - Ranking:  2\n",
      "Pass:  f(1059.4631)  - Ranking:  1\n",
      "Pass:  f(1090.5077)  - Ranking:  1\n",
      "Doesn't pass :  f(1122.4620)  - Ranking:  3\n",
      "Doesn't pass :  f(1155.3527)  - Ranking:  2\n",
      "Doesn't pass :  f(1189.2071)  - Ranking:  7\n",
      "Doesn't pass :  f(1224.0535)  - Ranking:  102\n",
      "Doesn't pass :  f(1259.9210)  - Ranking:  4\n",
      "Pass:  f(1296.8396)  - Ranking:  1\n",
      "Doesn't pass :  f(1334.8399)  - Ranking:  2\n",
      "Doesn't pass :  f(1373.9536)  - Ranking:  4\n",
      "Doesn't pass :  f(1414.2136)  - Ranking:  35\n",
      "Doesn't pass :  f(1455.6532)  - Ranking:  2\n",
      "Doesn't pass :  f(1498.3071)  - Ranking:  11\n",
      "Doesn't pass :  f(1542.2108)  - Ranking:  7\n",
      "Doesn't pass :  f(1587.4011)  - Ranking:  88\n",
      "Doesn't pass :  f(1633.9155)  - Ranking:  104\n",
      "Doesn't pass :  f(1681.7928)  - Ranking:  92\n",
      "Doesn't pass :  f(1731.0731)  - Ranking:  64\n",
      "Doesn't pass :  f(1781.7974)  - Ranking:  80\n",
      "Doesn't pass :  f(1834.0081)  - Ranking:  70\n",
      "Doesn't pass :  f(1887.7486)  - Ranking:  38\n",
      "Doesn't pass :  f(1943.0639)  - Ranking:  68\n",
      "Doesn't pass :  f(2000.0000)  - Ranking:  54\n",
      "Doesn't pass :  f(2058.6045)  - Ranking:  49\n",
      "Doesn't pass :  f(2118.9262)  - Ranking:  94\n",
      "Doesn't pass :  f(2181.0155)  - Ranking:  58\n",
      "Doesn't pass :  f(2244.9241)  - Ranking:  75\n",
      "Doesn't pass :  f(2310.7054)  - Ranking:  105\n",
      "Doesn't pass :  f(2378.4142)  - Ranking:  74\n",
      "Doesn't pass :  f(2448.1071)  - Ranking:  78\n",
      "Doesn't pass :  f(2519.8421)  - Ranking:  46\n",
      "Doesn't pass :  f(2593.6791)  - Ranking:  26\n",
      "Doesn't pass :  f(2669.6797)  - Ranking:  32\n",
      "Doesn't pass :  f(2747.9073)  - Ranking:  10\n",
      "Doesn't pass :  f(2828.4271)  - Ranking:  12\n",
      "Doesn't pass :  f(2911.3064)  - Ranking:  42\n",
      "Doesn't pass :  f(2996.6142)  - Ranking:  36\n",
      "Doesn't pass :  f(3084.4217)  - Ranking:  67\n",
      "Doesn't pass :  f(3174.8021)  - Ranking:  82\n",
      "Doesn't pass :  f(3267.8309)  - Ranking:  68\n",
      "Doesn't pass :  f(3363.5857)  - Ranking:  86\n",
      "Doesn't pass :  f(3462.1462)  - Ranking:  59\n",
      "Doesn't pass :  f(3563.5949)  - Ranking:  45\n",
      "Doesn't pass :  f(3668.0162)  - Ranking:  80\n",
      "Doesn't pass :  f(3775.4973)  - Ranking:  89\n",
      "Doesn't pass :  f(3886.1278)  - Ranking:  83\n",
      "Doesn't pass :  f(4000.0000)  - Ranking:  96\n",
      "Doesn't pass :  f(4117.2089)  - Ranking:  70\n",
      "Doesn't pass :  f(4237.8524)  - Ranking:  56\n",
      "Doesn't pass :  f(4362.0309)  - Ranking:  61\n",
      "Doesn't pass :  f(4489.8482)  - Ranking:  90\n",
      "Doesn't pass :  f(4621.4108)  - Ranking:  83\n",
      "Doesn't pass :  f(4756.8285)  - Ranking:  87\n",
      "Doesn't pass :  f(4896.2142)  - Ranking:  77\n",
      "Doesn't pass :  f(5039.6842)  - Ranking:  61\n",
      "Doesn't pass :  f(5187.3582)  - Ranking:  103\n",
      "Doesn't pass :  f(5339.3594)  - Ranking:  79\n",
      "Doesn't pass :  f(5495.8146)  - Ranking:  99\n",
      "Doesn't pass :  f(5656.8542)  - Ranking:  29\n",
      "Doesn't pass :  f(5822.6127)  - Ranking:  93\n",
      "Doesn't pass :  f(5993.2283)  - Ranking:  85\n",
      "Doesn't pass :  f(6168.8433)  - Ranking:  91\n",
      "Doesn't pass :  f(6349.6042)  - Ranking:  76\n",
      "Doesn't pass :  f(6535.6618)  - Ranking:  52\n",
      "Doesn't pass :  f(6727.1713)  - Ranking:  28\n",
      "Doesn't pass :  f(6924.2925)  - Ranking:  43\n",
      "Doesn't pass :  f(7127.1897)  - Ranking:  20\n",
      "Doesn't pass :  f(7336.0323)  - Ranking:  21\n",
      "Doesn't pass :  f(7550.9945)  - Ranking:  53\n",
      "Doesn't pass :  f(7772.2555)  - Ranking:  19\n",
      "Doesn't pass :  f(8000.0000)  - Ranking:  21\n"
     ]
    }
   ],
   "source": [
    "\n",
    "X=df.drop(\"OverallPoF\",axis=1)\n",
    "y=df[[\"OverallPoF\"]]\n",
    "# Initialize a RF model \n",
    "model = RandomForestRegressor(n_estimators=200, max_depth=5, random_state=42)\n",
    "\n",
    "# Initialize Boruta\n",
    "feat_selector = BorutaPy(\n",
    "    verbose=2,\n",
    "    estimator=model,\n",
    "    n_estimators='auto',\n",
    "    max_iter=10  # number of iterations to perform\n",
    ")\n",
    "\n",
    "# training Boruta\n",
    "feat_selector.fit(np.array(X), np.array(y))\n",
    "\n",
    "# print support and ranking for each feature\n",
    "print(\"\\n------Support and Ranking for each feature------\")\n",
    "for i in range(len(feat_selector.support_)):\n",
    "    if feat_selector.support_[i]:\n",
    "        print(\"Pass: \", X.columns[i],\n",
    "              \" - Ranking: \", feat_selector.ranking_[i])\n",
    "    else:\n",
    "        print(\"Doesn't pass : \",\n",
    "              X.columns[i], \" - Ranking: \", feat_selector.ranking_[i])"
   ]
  },
  {
   "cell_type": "code",
   "execution_count": 44,
   "metadata": {},
   "outputs": [],
   "source": [
    "#Printing the features with highest rank\n",
    "\n",
    "feature_ranks = list(zip(df.columns, \n",
    "                         feat_selector.ranking_, \n",
    "                         feat_selector.support_))"
   ]
  },
  {
   "cell_type": "code",
   "execution_count": 51,
   "metadata": {},
   "outputs": [
    {
     "name": "stdout",
     "output_type": "stream",
     "text": [
      "Feature: TPP                       Rank: 1,  Keep: True\n",
      "Feature: OAE1                      Rank: 1,  Keep: True\n",
      "Feature: OAE1.4                    Rank: 1,  Keep: True\n",
      "Feature: OAE2                      Rank: 1,  Keep: True\n",
      "Feature: OAE4                      Rank: 1,  Keep: True\n",
      "Feature: f(1029.3022)              Rank: 1,  Keep: True\n",
      "Feature: f(1059.4631)              Rank: 1,  Keep: True\n",
      "Feature: f(1259.9210)              Rank: 1,  Keep: True\n"
     ]
    }
   ],
   "source": [
    "for feat in feature_ranks:\n",
    "    if feat[2]==True:\n",
    "        print('Feature: {:<25} Rank: {},  Keep: {}'.format(feat[0], feat[1], feat[2]))\n"
   ]
  },
  {
   "cell_type": "markdown",
   "metadata": {},
   "source": [
    "These were the final variables that we obtained after applying the feature selection algorithm Boruta. We chose to use the 20 frequencies we obtained through other approaches because we discovered that using only frequencies is the best method for building models."
   ]
  },
  {
   "cell_type": "code",
   "execution_count": null,
   "metadata": {},
   "outputs": [],
   "source": []
  }
 ],
 "metadata": {
  "kernelspec": {
   "display_name": "Python 3.8.5 ('cits5508')",
   "language": "python",
   "name": "python3"
  },
  "language_info": {
   "codemirror_mode": {
    "name": "ipython",
    "version": 3
   },
   "file_extension": ".py",
   "mimetype": "text/x-python",
   "name": "python",
   "nbconvert_exporter": "python",
   "pygments_lexer": "ipython3",
   "version": "3.8.5"
  },
  "orig_nbformat": 4,
  "vscode": {
   "interpreter": {
    "hash": "a0557bb0c3ed9862251db480c7efd41f8ac64efb2446248756ab9b65527ea803"
   }
  }
 },
 "nbformat": 4,
 "nbformat_minor": 2
}
