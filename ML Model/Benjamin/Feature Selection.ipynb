{
 "cells": [
  {
   "cell_type": "markdown",
   "metadata": {},
   "source": [
    "# Feature Selection"
   ]
  },
  {
   "cell_type": "code",
   "execution_count": 41,
   "metadata": {},
   "outputs": [],
   "source": [
    "# Data manipulation\n",
    "import pandas as pd\n",
    "import numpy as np\n",
    "\n",
    "# Visualisation\n",
    "import seaborn as sns\n",
    "import matplotlib.pyplot as plt\n",
    "plt.rcParams['figure.facecolor'] = 'white' # Since I use a dark IDE\n",
    "\n",
    "# To allow multiple outputs per cell \n",
    "from IPython.core.interactiveshell import InteractiveShell\n",
    "InteractiveShell.ast_node_interactivity = 'all'\n",
    "\n",
    "# Machine learning\n",
    "from sklearn.ensemble import RandomForestClassifier\n",
    "from sklearn.feature_selection import SelectFromModel\n",
    "\n",
    "from sklearn.model_selection  import train_test_split, GridSearchCV\n",
    "from sklearn.metrics import mean_squared_error"
   ]
  },
  {
   "cell_type": "code",
   "execution_count": 42,
   "metadata": {},
   "outputs": [
    {
     "data": {
      "text/html": [
       "<div>\n",
       "<style scoped>\n",
       "    .dataframe tbody tr th:only-of-type {\n",
       "        vertical-align: middle;\n",
       "    }\n",
       "\n",
       "    .dataframe tbody tr th {\n",
       "        vertical-align: top;\n",
       "    }\n",
       "\n",
       "    .dataframe thead th {\n",
       "        text-align: right;\n",
       "    }\n",
       "</style>\n",
       "<table border=\"1\" class=\"dataframe\">\n",
       "  <thead>\n",
       "    <tr style=\"text-align: right;\">\n",
       "      <th></th>\n",
       "      <th>Unnamed: 0</th>\n",
       "      <th>Subject</th>\n",
       "      <th>Gender</th>\n",
       "      <th>DOT</th>\n",
       "      <th>DOB</th>\n",
       "      <th>AgeM</th>\n",
       "      <th>AgeY</th>\n",
       "      <th>Ethnicity</th>\n",
       "      <th>PTA0.5</th>\n",
       "      <th>PTA1</th>\n",
       "      <th>...</th>\n",
       "      <th>PC6</th>\n",
       "      <th>PC7</th>\n",
       "      <th>PC8</th>\n",
       "      <th>PC9</th>\n",
       "      <th>PC10</th>\n",
       "      <th>PC11</th>\n",
       "      <th>PC12</th>\n",
       "      <th>PC13</th>\n",
       "      <th>PC14</th>\n",
       "      <th>PC15</th>\n",
       "    </tr>\n",
       "  </thead>\n",
       "  <tbody>\n",
       "    <tr>\n",
       "      <th>0</th>\n",
       "      <td>0</td>\n",
       "      <td>8</td>\n",
       "      <td>0</td>\n",
       "      <td>2016-05-12 00:00:00</td>\n",
       "      <td>2006-12-18 00:00:00</td>\n",
       "      <td>112</td>\n",
       "      <td>9.333333</td>\n",
       "      <td>0.0</td>\n",
       "      <td>20</td>\n",
       "      <td>20</td>\n",
       "      <td>...</td>\n",
       "      <td>-0.405697</td>\n",
       "      <td>-2.841202</td>\n",
       "      <td>1.594642</td>\n",
       "      <td>0.724436</td>\n",
       "      <td>-0.579289</td>\n",
       "      <td>-0.553364</td>\n",
       "      <td>0.704006</td>\n",
       "      <td>-0.409157</td>\n",
       "      <td>0.072477</td>\n",
       "      <td>-0.217327</td>\n",
       "    </tr>\n",
       "    <tr>\n",
       "      <th>1</th>\n",
       "      <td>1</td>\n",
       "      <td>22</td>\n",
       "      <td>0</td>\n",
       "      <td>2016-05-18 00:00:00</td>\n",
       "      <td>2006-10-27 00:00:00</td>\n",
       "      <td>114</td>\n",
       "      <td>9.500000</td>\n",
       "      <td>0.0</td>\n",
       "      <td>20</td>\n",
       "      <td>20</td>\n",
       "      <td>...</td>\n",
       "      <td>1.479339</td>\n",
       "      <td>1.668937</td>\n",
       "      <td>-0.048483</td>\n",
       "      <td>0.608993</td>\n",
       "      <td>0.251156</td>\n",
       "      <td>-0.710949</td>\n",
       "      <td>0.604375</td>\n",
       "      <td>-0.616950</td>\n",
       "      <td>0.637559</td>\n",
       "      <td>-0.469144</td>\n",
       "    </tr>\n",
       "    <tr>\n",
       "      <th>2</th>\n",
       "      <td>2</td>\n",
       "      <td>24</td>\n",
       "      <td>1</td>\n",
       "      <td>2016-05-18 00:00:00</td>\n",
       "      <td>2006-07-02 00:00:00</td>\n",
       "      <td>118</td>\n",
       "      <td>9.833333</td>\n",
       "      <td>0.0</td>\n",
       "      <td>20</td>\n",
       "      <td>20</td>\n",
       "      <td>...</td>\n",
       "      <td>-0.343253</td>\n",
       "      <td>-0.215469</td>\n",
       "      <td>-0.777275</td>\n",
       "      <td>-1.703650</td>\n",
       "      <td>0.510768</td>\n",
       "      <td>-0.413348</td>\n",
       "      <td>-0.206985</td>\n",
       "      <td>-0.375959</td>\n",
       "      <td>0.339409</td>\n",
       "      <td>-0.049631</td>\n",
       "    </tr>\n",
       "    <tr>\n",
       "      <th>3</th>\n",
       "      <td>3</td>\n",
       "      <td>31</td>\n",
       "      <td>0</td>\n",
       "      <td>2016-05-19 00:00:00</td>\n",
       "      <td>2006-06-01 00:00:00</td>\n",
       "      <td>119</td>\n",
       "      <td>9.916667</td>\n",
       "      <td>0.0</td>\n",
       "      <td>20</td>\n",
       "      <td>20</td>\n",
       "      <td>...</td>\n",
       "      <td>-0.603940</td>\n",
       "      <td>1.065511</td>\n",
       "      <td>1.333238</td>\n",
       "      <td>0.796636</td>\n",
       "      <td>0.454654</td>\n",
       "      <td>-0.116502</td>\n",
       "      <td>0.247162</td>\n",
       "      <td>0.303749</td>\n",
       "      <td>-0.243954</td>\n",
       "      <td>-0.046242</td>\n",
       "    </tr>\n",
       "    <tr>\n",
       "      <th>4</th>\n",
       "      <td>4</td>\n",
       "      <td>42</td>\n",
       "      <td>0</td>\n",
       "      <td>2016-05-20 00:00:00</td>\n",
       "      <td>2008-06-03 00:00:00</td>\n",
       "      <td>95</td>\n",
       "      <td>7.916667</td>\n",
       "      <td>0.0</td>\n",
       "      <td>20</td>\n",
       "      <td>20</td>\n",
       "      <td>...</td>\n",
       "      <td>-0.434886</td>\n",
       "      <td>2.172756</td>\n",
       "      <td>0.895713</td>\n",
       "      <td>1.079165</td>\n",
       "      <td>1.445886</td>\n",
       "      <td>0.345314</td>\n",
       "      <td>-1.758196</td>\n",
       "      <td>0.268712</td>\n",
       "      <td>-0.148645</td>\n",
       "      <td>-0.204201</td>\n",
       "    </tr>\n",
       "  </tbody>\n",
       "</table>\n",
       "<p>5 rows × 153 columns</p>\n",
       "</div>"
      ],
      "text/plain": [
       "   Unnamed: 0  Subject  Gender                  DOT                  DOB  \\\n",
       "0           0        8       0  2016-05-12 00:00:00  2006-12-18 00:00:00   \n",
       "1           1       22       0  2016-05-18 00:00:00  2006-10-27 00:00:00   \n",
       "2           2       24       1  2016-05-18 00:00:00  2006-07-02 00:00:00   \n",
       "3           3       31       0  2016-05-19 00:00:00  2006-06-01 00:00:00   \n",
       "4           4       42       0  2016-05-20 00:00:00  2008-06-03 00:00:00   \n",
       "\n",
       "   AgeM      AgeY  Ethnicity  PTA0.5  PTA1  ...       PC6       PC7       PC8  \\\n",
       "0   112  9.333333        0.0      20    20  ... -0.405697 -2.841202  1.594642   \n",
       "1   114  9.500000        0.0      20    20  ...  1.479339  1.668937 -0.048483   \n",
       "2   118  9.833333        0.0      20    20  ... -0.343253 -0.215469 -0.777275   \n",
       "3   119  9.916667        0.0      20    20  ... -0.603940  1.065511  1.333238   \n",
       "4    95  7.916667        0.0      20    20  ... -0.434886  2.172756  0.895713   \n",
       "\n",
       "        PC9      PC10      PC11      PC12      PC13      PC14      PC15  \n",
       "0  0.724436 -0.579289 -0.553364  0.704006 -0.409157  0.072477 -0.217327  \n",
       "1  0.608993  0.251156 -0.710949  0.604375 -0.616950  0.637559 -0.469144  \n",
       "2 -1.703650  0.510768 -0.413348 -0.206985 -0.375959  0.339409 -0.049631  \n",
       "3  0.796636  0.454654 -0.116502  0.247162  0.303749 -0.243954 -0.046242  \n",
       "4  1.079165  1.445886  0.345314 -1.758196  0.268712 -0.148645 -0.204201  \n",
       "\n",
       "[5 rows x 153 columns]"
      ]
     },
     "execution_count": 42,
     "metadata": {},
     "output_type": "execute_result"
    }
   ],
   "source": [
    "wba_data = pd.read_csv('wba_data_CLEAN.csv')\n",
    "wba_data.head()"
   ]
  },
  {
   "cell_type": "markdown",
   "metadata": {},
   "source": [
    "## Removing Unwanted Variables"
   ]
  },
  {
   "cell_type": "markdown",
   "metadata": {},
   "source": [
    "Removing PoF variables"
   ]
  },
  {
   "cell_type": "code",
   "execution_count": 43,
   "metadata": {},
   "outputs": [
    {
     "data": {
      "text/plain": [
       "'hijk'"
      ]
     },
     "execution_count": 43,
     "metadata": {},
     "output_type": "execute_result"
    },
    {
     "data": {
      "text/plain": [
       "'PoFC'"
      ]
     },
     "execution_count": 43,
     "metadata": {},
     "output_type": "execute_result"
    }
   ],
   "source": [
    "'abcdefghijk'[-4:]\n",
    "\n",
    "'OAEPoFC'[-4:]"
   ]
  },
  {
   "cell_type": "code",
   "execution_count": 44,
   "metadata": {},
   "outputs": [
    {
     "name": "stdout",
     "output_type": "stream",
     "text": [
      "153\n",
      "Removing PTAAv4FAPoF\n",
      "Removing PTAAv4FAPoFC\n",
      "Removing TympPoF\n",
      "Removing OAEPoF\n",
      "Removing OAEPoFC\n",
      "148\n"
     ]
    }
   ],
   "source": [
    "features = list(wba_data.columns)\n",
    "print(len(features))\n",
    "\n",
    "for feature in wba_data.columns:\n",
    "    # print(feature)\n",
    "    if feature == \"OverallPoF\":\n",
    "        continue\n",
    "    elif feature[-3:] == \"PoF\":\n",
    "        print(\"Removing {}\".format(feature))\n",
    "        features.remove(feature)\n",
    "    elif feature[-4:] == 'PoFC':\n",
    "        print(\"Removing {}\".format(feature))\n",
    "        features.remove(feature)\n",
    "\n",
    "\n",
    "print(len(features))\n"
   ]
  },
  {
   "cell_type": "code",
   "execution_count": 45,
   "metadata": {},
   "outputs": [
    {
     "name": "stdout",
     "output_type": "stream",
     "text": [
      "['Unnamed: 0', 'Subject', 'Gender', 'DOT', 'DOB', 'AgeM', 'AgeY', 'Ethnicity', 'PTA0.5', 'PTA1', 'PTA2', 'PTA4', 'PTAAv4FA', 'ECV', 'TPP', 'SC', 'TympType', 'OAE1', 'OAE1.4', 'OAE2', 'OAE2.8', 'OAE4', 'OverallPoF', 'EarSide', 'Ear coded', 'Pressure', 'f(226.0000)', 'f(257.3256)', 'f(280.6155)', 'f(297.3018)', 'f(324.2099)', 'f(343.4884)', 'f(363.9133)', 'f(385.5527)', 'f(408.4789)', 'f(432.7683)', 'f(458.5020)', 'f(471.9372)', 'f(500.0000)', 'f(514.6511)', 'f(545.2539)', 'f(561.2310)', 'f(577.6763)', 'f(594.6036)', 'f(629.9605)', 'f(648.4198)', 'f(667.4199)', 'f(686.9768)', 'f(707.1068)', 'f(727.8266)', 'f(749.1535)', 'f(771.1054)', 'f(793.7005)', 'f(816.9577)', 'f(840.8964)', 'f(865.5366)', 'f(890.8987)', 'f(917.0040)', 'f(943.8743)', 'f(971.5319)', 'f(1000.0000)', 'f(1029.3022)', 'f(1059.4631)', 'f(1090.5077)', 'f(1122.4620)', 'f(1155.3527)', 'f(1189.2071)', 'f(1224.0535)', 'f(1259.9210)', 'f(1296.8396)', 'f(1334.8399)', 'f(1373.9536)', 'f(1414.2136)', 'f(1455.6532)', 'f(1498.3071)', 'f(1542.2108)', 'f(1587.4011)', 'f(1633.9155)', 'f(1681.7928)', 'f(1731.0731)', 'f(1781.7974)', 'f(1834.0081)', 'f(1887.7486)', 'f(1943.0639)', 'f(2000.0000)', 'f(2058.6045)', 'f(2118.9262)', 'f(2181.0155)', 'f(2244.9241)', 'f(2310.7054)', 'f(2378.4142)', 'f(2448.1071)', 'f(2519.8421)', 'f(2593.6791)', 'f(2669.6797)', 'f(2747.9073)', 'f(2828.4271)', 'f(2911.3064)', 'f(2996.6142)', 'f(3084.4217)', 'f(3174.8021)', 'f(3267.8309)', 'f(3363.5857)', 'f(3462.1462)', 'f(3563.5949)', 'f(3668.0162)', 'f(3775.4973)', 'f(3886.1278)', 'f(4000.0000)', 'f(4117.2089)', 'f(4237.8524)', 'f(4362.0309)', 'f(4489.8482)', 'f(4621.4108)', 'f(4756.8285)', 'f(4896.2142)', 'f(5039.6842)', 'f(5187.3582)', 'f(5339.3594)', 'f(5495.8146)', 'f(5656.8542)', 'f(5822.6127)', 'f(5993.2283)', 'f(6168.8433)', 'f(6349.6042)', 'f(6535.6618)', 'f(6727.1713)', 'f(6924.2925)', 'f(7127.1897)', 'f(7336.0323)', 'f(7550.9945)', 'f(7772.2555)', 'f(8000.0000)', 'PC1', 'PC2', 'PC3', 'PC4', 'PC5', 'PC6', 'PC7', 'PC8', 'PC9', 'PC10', 'PC11', 'PC12', 'PC13', 'PC14', 'PC15']\n"
     ]
    }
   ],
   "source": [
    "print(features)"
   ]
  },
  {
   "cell_type": "markdown",
   "metadata": {},
   "source": [
    "Removing PCAs ** have to run the cell 4 times?:"
   ]
  },
  {
   "cell_type": "code",
   "execution_count": 46,
   "metadata": {},
   "outputs": [
    {
     "name": "stdout",
     "output_type": "stream",
     "text": [
      "Removing PC1\n",
      "Removing PC2\n",
      "Removing PC3\n",
      "Removing PC4\n",
      "Removing PC5\n",
      "Removing PC6\n",
      "Removing PC7\n",
      "Removing PC8\n",
      "Removing PC9\n",
      "Removing PC10\n",
      "Removing PC11\n",
      "Removing PC12\n",
      "Removing PC13\n",
      "Removing PC14\n",
      "Removing PC15\n"
     ]
    }
   ],
   "source": [
    "for feature in wba_data.columns:\n",
    "    if feature[:2] == \"PC\":\n",
    "        print(\"Removing {}\".format(feature))\n",
    "        features.remove(feature)\n",
    "\n",
    "# features"
   ]
  },
  {
   "cell_type": "code",
   "execution_count": 47,
   "metadata": {},
   "outputs": [
    {
     "name": "stdout",
     "output_type": "stream",
     "text": [
      "Removing Unnamed: 0\n",
      "Removing DOB\n",
      "Removing DOT\n",
      "Removing AgeM\n"
     ]
    }
   ],
   "source": [
    "unwanted_cols = ['Unnamed: 0', 'DOB', 'DOT', 'AgeM']\n",
    "\n",
    "for col in unwanted_cols:\n",
    "    print(\"Removing {}\".format(col))\n",
    "    features.remove(col)"
   ]
  },
  {
   "cell_type": "markdown",
   "metadata": {},
   "source": [
    "## Converting TympType to Numerical"
   ]
  },
  {
   "cell_type": "code",
   "execution_count": 48,
   "metadata": {},
   "outputs": [
    {
     "name": "stdout",
     "output_type": "stream",
     "text": [
      "[[1. 0. 0. 0.]\n",
      " [1. 0. 0. 0.]\n",
      " [1. 0. 0. 0.]\n",
      " [1. 0. 0. 0.]\n",
      " [0. 0. 0. 1.]\n",
      " [1. 0. 0. 0.]\n",
      " [1. 0. 0. 0.]\n",
      " [1. 0. 0. 0.]\n",
      " [1. 0. 0. 0.]]\n"
     ]
    }
   ],
   "source": [
    "from sklearn.preprocessing import OneHotEncoder\n",
    "\n",
    "encoder = OneHotEncoder()\n",
    "\n",
    "ohe_tymptype = encoder.fit_transform(wba_data[['TympType']])\n",
    "\n",
    "print(ohe_tymptype.toarray()[1:10])\n",
    "\n",
    "ohe_tymptype = pd.DataFrame(ohe_tymptype)"
   ]
  },
  {
   "cell_type": "code",
   "execution_count": 49,
   "metadata": {},
   "outputs": [],
   "source": [
    "wba_data['TympType'] = ohe_tymptype"
   ]
  },
  {
   "cell_type": "markdown",
   "metadata": {},
   "source": [
    "## Train Test Split"
   ]
  },
  {
   "cell_type": "code",
   "execution_count": 59,
   "metadata": {},
   "outputs": [
    {
     "data": {
      "text/plain": [
       "Index(['Subject', 'Gender', 'AgeY', 'Ethnicity', 'PTA0.5', 'PTA1', 'PTA2',\n",
       "       'PTA4', 'PTAAv4FA', 'ECV',\n",
       "       ...\n",
       "       'f(6168.8433)', 'f(6349.6042)', 'f(6535.6618)', 'f(6727.1713)',\n",
       "       'f(6924.2925)', 'f(7127.1897)', 'f(7336.0323)', 'f(7550.9945)',\n",
       "       'f(7772.2555)', 'f(8000.0000)'],\n",
       "      dtype='object', length=126)"
      ]
     },
     "execution_count": 59,
     "metadata": {},
     "output_type": "execute_result"
    }
   ],
   "source": [
    "y = wba_data['OverallPoF']\n",
    "\n",
    "X = wba_data[features]\n",
    "X = X.loc[:, X.columns != 'OverallPoF']\n",
    "\n",
    "### TEMPORARY\n",
    "X = X.loc[:, X.columns != 'TympType']\n",
    "X = X.loc[:, X.columns != 'EarSide']\n",
    "\n",
    "\n",
    "\n",
    "# X = X.drop(['Unnamed: 0', 'DOB', 'DOT', 'AgeM'], axis=1)\n",
    "X.columns"
   ]
  },
  {
   "cell_type": "code",
   "execution_count": 73,
   "metadata": {},
   "outputs": [],
   "source": [
    "X_train, X_test, y_train, y_test = train_test_split(X, y, test_size=0.1, stratify=y)"
   ]
  },
  {
   "cell_type": "code",
   "execution_count": 74,
   "metadata": {},
   "outputs": [
    {
     "data": {
      "text/plain": [
       "215"
      ]
     },
     "execution_count": 74,
     "metadata": {},
     "output_type": "execute_result"
    },
    {
     "data": {
      "text/plain": [
       "215"
      ]
     },
     "execution_count": 74,
     "metadata": {},
     "output_type": "execute_result"
    },
    {
     "data": {
      "text/plain": [
       "24"
      ]
     },
     "execution_count": 74,
     "metadata": {},
     "output_type": "execute_result"
    },
    {
     "data": {
      "text/plain": [
       "24"
      ]
     },
     "execution_count": 74,
     "metadata": {},
     "output_type": "execute_result"
    }
   ],
   "source": [
    "len(X_train)\n",
    "len(y_train)\n",
    "len(X_test)\n",
    "len(y_test)"
   ]
  },
  {
   "cell_type": "code",
   "execution_count": 67,
   "metadata": {},
   "outputs": [],
   "source": [
    "# X_train.head()\n",
    "# y_train.head()\n",
    "# X_test.head()\n",
    "# y_test.head()"
   ]
  },
  {
   "cell_type": "code",
   "execution_count": 81,
   "metadata": {},
   "outputs": [
    {
     "data": {
      "text/plain": [
       "SelectFromModel(estimator=RandomForestClassifier(n_estimators=200))"
      ]
     },
     "execution_count": 81,
     "metadata": {},
     "output_type": "execute_result"
    }
   ],
   "source": [
    "feature_select = SelectFromModel(\n",
    "    RandomForestClassifier(n_estimators = 200)\n",
    "    )\n",
    "\n",
    "feature_select.fit(X_train, y_train)"
   ]
  },
  {
   "cell_type": "code",
   "execution_count": 86,
   "metadata": {},
   "outputs": [
    {
     "data": {
      "text/plain": [
       "{'estimator__bootstrap': True,\n",
       " 'estimator__ccp_alpha': 0.0,\n",
       " 'estimator__class_weight': None,\n",
       " 'estimator__criterion': 'gini',\n",
       " 'estimator__max_depth': None,\n",
       " 'estimator__max_features': 'auto',\n",
       " 'estimator__max_leaf_nodes': None,\n",
       " 'estimator__max_samples': None,\n",
       " 'estimator__min_impurity_decrease': 0.0,\n",
       " 'estimator__min_impurity_split': None,\n",
       " 'estimator__min_samples_leaf': 1,\n",
       " 'estimator__min_samples_split': 2,\n",
       " 'estimator__min_weight_fraction_leaf': 0.0,\n",
       " 'estimator__n_estimators': 200,\n",
       " 'estimator__n_jobs': None,\n",
       " 'estimator__oob_score': False,\n",
       " 'estimator__random_state': None,\n",
       " 'estimator__verbose': 0,\n",
       " 'estimator__warm_start': False,\n",
       " 'estimator': RandomForestClassifier(n_estimators=200),\n",
       " 'importance_getter': 'auto',\n",
       " 'max_features': None,\n",
       " 'norm_order': 1,\n",
       " 'prefit': False,\n",
       " 'threshold': None}"
      ]
     },
     "execution_count": 86,
     "metadata": {},
     "output_type": "execute_result"
    }
   ],
   "source": [
    "feature_select.get_params(deep=True)"
   ]
  },
  {
   "cell_type": "code",
   "execution_count": 102,
   "metadata": {},
   "outputs": [
    {
     "name": "stdout",
     "output_type": "stream",
     "text": [
      "[10 12 13 14 15 16 45 49 51 52 53 54 55 56 57 58 59 60 61 62 63 64 65 66\n",
      " 67 68 69 70 72]\n",
      "['TPP', 'OAE1', 'OAE1.4', 'OAE2', 'OAE2.8', 'OAE4', 'f(793.7005)', 'f(890.8987)', 'f(943.8743)', 'f(971.5319)', 'f(1000.0000)', 'f(1029.3022)', 'f(1059.4631)', 'f(1090.5077)', 'f(1122.4620)', 'f(1155.3527)', 'f(1189.2071)', 'f(1224.0535)', 'f(1259.9210)', 'f(1296.8396)', 'f(1334.8399)', 'f(1373.9536)', 'f(1414.2136)', 'f(1455.6532)', 'f(1498.3071)', 'f(1542.2108)', 'f(1587.4011)', 'f(1633.9155)', 'f(1731.0731)']\n"
     ]
    }
   ],
   "source": [
    "imp_indices = feature_select.get_support(indices=True)\n",
    "print(imp_indices)\n",
    "\n",
    "imp = []\n",
    "\n",
    "for i in imp_indices:\n",
    "    imp.append(X.columns[i])\n",
    "print(imp)"
   ]
  },
  {
   "cell_type": "code",
   "execution_count": 82,
   "metadata": {},
   "outputs": [],
   "source": [
    "important = feature_select.get_support()"
   ]
  },
  {
   "cell_type": "code",
   "execution_count": 83,
   "metadata": {},
   "outputs": [
    {
     "name": "stdout",
     "output_type": "stream",
     "text": [
      "Index(['TPP', 'OAE1', 'OAE1.4', 'OAE2', 'OAE2.8', 'OAE4', 'f(793.7005)',\n",
      "       'f(890.8987)', 'f(943.8743)', 'f(971.5319)', 'f(1000.0000)',\n",
      "       'f(1029.3022)', 'f(1059.4631)', 'f(1090.5077)', 'f(1122.4620)',\n",
      "       'f(1155.3527)', 'f(1189.2071)', 'f(1224.0535)', 'f(1259.9210)',\n",
      "       'f(1296.8396)', 'f(1334.8399)', 'f(1373.9536)', 'f(1414.2136)',\n",
      "       'f(1455.6532)', 'f(1498.3071)', 'f(1542.2108)', 'f(1587.4011)',\n",
      "       'f(1633.9155)', 'f(1731.0731)'],\n",
      "      dtype='object')\n"
     ]
    }
   ],
   "source": [
    "print(X.columns[important])"
   ]
  },
  {
   "cell_type": "code",
   "execution_count": null,
   "metadata": {},
   "outputs": [],
   "source": [
    "# sns.set(rc={'figure.figsize':(30,15)})\n",
    "# ax = sns.boxplot(x=\"variable\", y=\"value\", data=wba_df)\n",
    "# ax.set_xticklabels(ax.get_xticklabels(), rotation=40, ha=\"right\")\n",
    "# ax.axhline(1.0, ls='--', color='red')\n",
    "# ax.axhline(0.8, ls='--', color='red')\n",
    "# ax.axhline(0.6, ls='--', color='red')\n",
    "# ax.axhline(0.4, ls='--', color='red')\n",
    "# ax.axhline(0.2, ls='--', color='red')\n",
    "# ax.axhline(0.0, ls='--', color='red')\n",
    "\n",
    "# sns.set(rc={'figure.figsize':(20,10)})\n",
    "# plt.setp(ax.get_xticklabels()[::2], visible=False)\n",
    "\n",
    "# plt.tight_layout()\n",
    "# plt.show();"
   ]
  },
  {
   "cell_type": "code",
   "execution_count": 77,
   "metadata": {},
   "outputs": [
    {
     "data": {
      "text/plain": [
       "32"
      ]
     },
     "execution_count": 77,
     "metadata": {},
     "output_type": "execute_result"
    }
   ],
   "source": [
    "selected_feat= X_train.columns[(feature_select.get_support())]\n",
    "len(selected_feat)"
   ]
  }
 ],
 "metadata": {
  "kernelspec": {
   "display_name": "Python 3.9.7",
   "language": "python",
   "name": "python3"
  },
  "language_info": {
   "codemirror_mode": {
    "name": "ipython",
    "version": 3
   },
   "file_extension": ".py",
   "mimetype": "text/x-python",
   "name": "python",
   "nbconvert_exporter": "python",
   "pygments_lexer": "ipython3",
   "version": "3.9.7"
  },
  "orig_nbformat": 4,
  "vscode": {
   "interpreter": {
    "hash": "cd78fef2128015050713e82ca51c6520b11aee7c9ee8df750520bbbc7384cbaa"
   }
  }
 },
 "nbformat": 4,
 "nbformat_minor": 2
}
