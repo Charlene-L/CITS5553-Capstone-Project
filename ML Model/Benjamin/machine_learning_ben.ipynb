{
 "cells": [
  {
   "cell_type": "markdown",
   "metadata": {},
   "source": [
    "# Machine Learning\n"
   ]
  },
  {
   "cell_type": "code",
   "execution_count": 1,
   "metadata": {},
   "outputs": [],
   "source": [
    "# Data manipulation\n",
    "import pandas as pd\n",
    "import numpy as np\n",
    "\n",
    "# Visualisation\n",
    "import seaborn as sns\n",
    "import matplotlib.pyplot as plt\n",
    "plt.rcParams['figure.facecolor'] = 'white' # Since I use a dark IDE\n",
    "\n",
    "# To allow multiple outputs per cell \n",
    "from IPython.core.interactiveshell import InteractiveShell\n",
    "InteractiveShell.ast_node_interactivity = 'all'\n",
    "\n",
    "# Machine learning\n",
    "from sklearn.ensemble import RandomForestClassifier\n",
    "from sklearn.feature_selection import SelectFromModel\n",
    "from sklearn.metrics import confusion_matrix\n",
    "\n",
    "from sklearn.model_selection  import train_test_split, GridSearchCV\n",
    "from sklearn.metrics import mean_squared_error"
   ]
  },
  {
   "cell_type": "markdown",
   "metadata": {},
   "source": [
    "# Data Preparation"
   ]
  },
  {
   "cell_type": "markdown",
   "metadata": {},
   "source": [
    "## Reading in Data"
   ]
  },
  {
   "cell_type": "markdown",
   "metadata": {},
   "source": [
    "Full data"
   ]
  },
  {
   "cell_type": "code",
   "execution_count": 2,
   "metadata": {},
   "outputs": [],
   "source": [
    "wba_data = pd.read_csv(\"./Data/Normal/wba_data_CLEAN.csv\")"
   ]
  },
  {
   "cell_type": "markdown",
   "metadata": {},
   "source": [
    "Normal data"
   ]
  },
  {
   "cell_type": "code",
   "execution_count": 4,
   "metadata": {},
   "outputs": [],
   "source": [
    "X_train = pd.read_csv(\"./Data/Normal/X_train.csv\")\n",
    "y_train = pd.read_csv(\"./Data/Normal/y_train.csv\")\n",
    "X_test = pd.read_csv(\"./Data/Normal/X_test.csv\")\n",
    "y_test = pd.read_csv(\"./Data/Normal/y_test.csv\")"
   ]
  },
  {
   "cell_type": "markdown",
   "metadata": {},
   "source": [
    "SMOTE data"
   ]
  },
  {
   "cell_type": "code",
   "execution_count": 6,
   "metadata": {},
   "outputs": [],
   "source": [
    "X_train_smote = pd.read_csv(\"./Data/SMOTE/X_train_smote.csv\")\n",
    "y_train_smote = pd.read_csv(\"./Data/SMOTE/y_train_smote.csv\")\n",
    "X_test_smote = pd.read_csv(\"./Data/SMOTE/X_test_smote.csv\")\n",
    "y_test_smote = pd.read_csv(\"./Data/SMOTE/y_test_smote.csv\")"
   ]
  },
  {
   "cell_type": "markdown",
   "metadata": {},
   "source": [
    "Oversampling"
   ]
  },
  {
   "cell_type": "code",
   "execution_count": 8,
   "metadata": {},
   "outputs": [],
   "source": [
    "X_train_over = pd.read_csv(\"./Data/Oversampling/X_train_over.csv\")\n",
    "y_train_over = pd.read_csv(\"./Data/Oversampling/y_train_over.csv\")\n",
    "X_test_over = pd.read_csv(\"./Data/Oversampling/X_test_over.csv\")\n",
    "y_test_over = pd.read_csv(\"./Data/Oversampling/y_test_over.csv\")"
   ]
  },
  {
   "cell_type": "markdown",
   "metadata": {},
   "source": [
    "## Deleting Unwanted Columns"
   ]
  },
  {
   "cell_type": "code",
   "execution_count": 10,
   "metadata": {},
   "outputs": [
    {
     "data": {
      "text/html": [
       "<div>\n",
       "<style scoped>\n",
       "    .dataframe tbody tr th:only-of-type {\n",
       "        vertical-align: middle;\n",
       "    }\n",
       "\n",
       "    .dataframe tbody tr th {\n",
       "        vertical-align: top;\n",
       "    }\n",
       "\n",
       "    .dataframe thead th {\n",
       "        text-align: right;\n",
       "    }\n",
       "</style>\n",
       "<table border=\"1\" class=\"dataframe\">\n",
       "  <thead>\n",
       "    <tr style=\"text-align: right;\">\n",
       "      <th></th>\n",
       "      <th>Gender</th>\n",
       "      <th>AgeY</th>\n",
       "      <th>ECV</th>\n",
       "      <th>TPP</th>\n",
       "      <th>SC</th>\n",
       "      <th>TympType</th>\n",
       "      <th>OAE1</th>\n",
       "      <th>OAE1.4</th>\n",
       "      <th>OAE2</th>\n",
       "      <th>OAE2.8</th>\n",
       "      <th>...</th>\n",
       "      <th>f(6168.8433)</th>\n",
       "      <th>f(6349.6042)</th>\n",
       "      <th>f(6535.6618)</th>\n",
       "      <th>f(6727.1713)</th>\n",
       "      <th>f(6924.2925)</th>\n",
       "      <th>f(7127.1897)</th>\n",
       "      <th>f(7336.0323)</th>\n",
       "      <th>f(7550.9945)</th>\n",
       "      <th>f(7772.2555)</th>\n",
       "      <th>f(8000.0000)</th>\n",
       "    </tr>\n",
       "  </thead>\n",
       "  <tbody>\n",
       "    <tr>\n",
       "      <th>0</th>\n",
       "      <td>1</td>\n",
       "      <td>8.583333</td>\n",
       "      <td>0.89</td>\n",
       "      <td>-151.0</td>\n",
       "      <td>2.53</td>\n",
       "      <td>1</td>\n",
       "      <td>0.0</td>\n",
       "      <td>5.0</td>\n",
       "      <td>9.2</td>\n",
       "      <td>11.7</td>\n",
       "      <td>...</td>\n",
       "      <td>0.3955</td>\n",
       "      <td>0.3583</td>\n",
       "      <td>0.2997</td>\n",
       "      <td>0.2709</td>\n",
       "      <td>0.2544</td>\n",
       "      <td>0.1956</td>\n",
       "      <td>0.1648</td>\n",
       "      <td>0.1158</td>\n",
       "      <td>0.1083</td>\n",
       "      <td>0.0542</td>\n",
       "    </tr>\n",
       "    <tr>\n",
       "      <th>1</th>\n",
       "      <td>1</td>\n",
       "      <td>9.833333</td>\n",
       "      <td>0.81</td>\n",
       "      <td>-63.0</td>\n",
       "      <td>1.32</td>\n",
       "      <td>0</td>\n",
       "      <td>8.1</td>\n",
       "      <td>20.8</td>\n",
       "      <td>14.7</td>\n",
       "      <td>6.9</td>\n",
       "      <td>...</td>\n",
       "      <td>0.4592</td>\n",
       "      <td>0.4006</td>\n",
       "      <td>0.3508</td>\n",
       "      <td>0.3381</td>\n",
       "      <td>0.2983</td>\n",
       "      <td>0.2789</td>\n",
       "      <td>0.2655</td>\n",
       "      <td>0.3118</td>\n",
       "      <td>0.3039</td>\n",
       "      <td>0.3022</td>\n",
       "    </tr>\n",
       "    <tr>\n",
       "      <th>2</th>\n",
       "      <td>0</td>\n",
       "      <td>10.083333</td>\n",
       "      <td>1.50</td>\n",
       "      <td>-28.0</td>\n",
       "      <td>0.56</td>\n",
       "      <td>0</td>\n",
       "      <td>10.4</td>\n",
       "      <td>15.4</td>\n",
       "      <td>15.6</td>\n",
       "      <td>9.9</td>\n",
       "      <td>...</td>\n",
       "      <td>0.2600</td>\n",
       "      <td>0.2409</td>\n",
       "      <td>0.2002</td>\n",
       "      <td>0.2064</td>\n",
       "      <td>0.2190</td>\n",
       "      <td>0.1961</td>\n",
       "      <td>0.2076</td>\n",
       "      <td>0.1994</td>\n",
       "      <td>0.2084</td>\n",
       "      <td>0.1099</td>\n",
       "    </tr>\n",
       "    <tr>\n",
       "      <th>3</th>\n",
       "      <td>1</td>\n",
       "      <td>8.666667</td>\n",
       "      <td>1.15</td>\n",
       "      <td>3.0</td>\n",
       "      <td>1.07</td>\n",
       "      <td>0</td>\n",
       "      <td>10.6</td>\n",
       "      <td>15.1</td>\n",
       "      <td>15.0</td>\n",
       "      <td>7.8</td>\n",
       "      <td>...</td>\n",
       "      <td>0.5128</td>\n",
       "      <td>0.4605</td>\n",
       "      <td>0.4126</td>\n",
       "      <td>0.4001</td>\n",
       "      <td>0.3634</td>\n",
       "      <td>0.3378</td>\n",
       "      <td>0.3084</td>\n",
       "      <td>0.3156</td>\n",
       "      <td>0.3042</td>\n",
       "      <td>0.2912</td>\n",
       "    </tr>\n",
       "    <tr>\n",
       "      <th>4</th>\n",
       "      <td>1</td>\n",
       "      <td>8.583333</td>\n",
       "      <td>1.03</td>\n",
       "      <td>-10.0</td>\n",
       "      <td>0.43</td>\n",
       "      <td>0</td>\n",
       "      <td>3.7</td>\n",
       "      <td>11.5</td>\n",
       "      <td>7.4</td>\n",
       "      <td>5.7</td>\n",
       "      <td>...</td>\n",
       "      <td>0.0000</td>\n",
       "      <td>0.0034</td>\n",
       "      <td>0.0000</td>\n",
       "      <td>0.0000</td>\n",
       "      <td>0.0000</td>\n",
       "      <td>0.0000</td>\n",
       "      <td>0.0000</td>\n",
       "      <td>0.0000</td>\n",
       "      <td>0.0000</td>\n",
       "      <td>0.0000</td>\n",
       "    </tr>\n",
       "  </tbody>\n",
       "</table>\n",
       "<p>5 rows × 120 columns</p>\n",
       "</div>"
      ],
      "text/plain": [
       "   Gender       AgeY   ECV    TPP    SC  TympType  OAE1  OAE1.4  OAE2  OAE2.8  \\\n",
       "0       1   8.583333  0.89 -151.0  2.53         1   0.0     5.0   9.2    11.7   \n",
       "1       1   9.833333  0.81  -63.0  1.32         0   8.1    20.8  14.7     6.9   \n",
       "2       0  10.083333  1.50  -28.0  0.56         0  10.4    15.4  15.6     9.9   \n",
       "3       1   8.666667  1.15    3.0  1.07         0  10.6    15.1  15.0     7.8   \n",
       "4       1   8.583333  1.03  -10.0  0.43         0   3.7    11.5   7.4     5.7   \n",
       "\n",
       "   ...  f(6168.8433)  f(6349.6042)  f(6535.6618)  f(6727.1713)  f(6924.2925)  \\\n",
       "0  ...        0.3955        0.3583        0.2997        0.2709        0.2544   \n",
       "1  ...        0.4592        0.4006        0.3508        0.3381        0.2983   \n",
       "2  ...        0.2600        0.2409        0.2002        0.2064        0.2190   \n",
       "3  ...        0.5128        0.4605        0.4126        0.4001        0.3634   \n",
       "4  ...        0.0000        0.0034        0.0000        0.0000        0.0000   \n",
       "\n",
       "   f(7127.1897)  f(7336.0323)  f(7550.9945)  f(7772.2555)  f(8000.0000)  \n",
       "0        0.1956        0.1648        0.1158        0.1083        0.0542  \n",
       "1        0.2789        0.2655        0.3118        0.3039        0.3022  \n",
       "2        0.1961        0.2076        0.1994        0.2084        0.1099  \n",
       "3        0.3378        0.3084        0.3156        0.3042        0.2912  \n",
       "4        0.0000        0.0000        0.0000        0.0000        0.0000  \n",
       "\n",
       "[5 rows x 120 columns]"
      ]
     },
     "execution_count": 10,
     "metadata": {},
     "output_type": "execute_result"
    }
   ],
   "source": [
    "all_dfs = [X_train, X_test]"
   ]
  }
 ],
 "metadata": {
  "kernelspec": {
   "display_name": "Python 3.9.7",
   "language": "python",
   "name": "python3"
  },
  "language_info": {
   "codemirror_mode": {
    "name": "ipython",
    "version": 3
   },
   "file_extension": ".py",
   "mimetype": "text/x-python",
   "name": "python",
   "nbconvert_exporter": "python",
   "pygments_lexer": "ipython3",
   "version": "3.9.7"
  },
  "orig_nbformat": 4,
  "vscode": {
   "interpreter": {
    "hash": "cd78fef2128015050713e82ca51c6520b11aee7c9ee8df750520bbbc7384cbaa"
   }
  }
 },
 "nbformat": 4,
 "nbformat_minor": 2
}
